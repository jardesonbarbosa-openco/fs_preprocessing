{
 "cells": [
  {
   "cell_type": "code",
   "execution_count": 53,
   "metadata": {},
   "outputs": [],
   "source": [
    "import re\n",
    "import json\n",
    "import logging\n",
    "import traceback\n",
    "import numpy as np\n",
    "import pandas as pd\n",
    "\n",
    "import orjson\n",
    "\n",
    "#import dask.dataframe as dd\n",
    "#from dask.distributed import Client"
   ]
  },
  {
   "cell_type": "code",
   "execution_count": 54,
   "metadata": {},
   "outputs": [],
   "source": [
    "logging.basicConfig(\n",
    "    filename='../logs/app.log',\n",
    "    filemode='w',\n",
    "    format='%(asctime)s - %(levelname)s - %(message)s')\n",
    "\n",
    "logger = logging.getLogger('data_analysis')"
   ]
  },
  {
   "cell_type": "markdown",
   "metadata": {},
   "source": [
    "### Load"
   ]
  },
  {
   "cell_type": "code",
   "execution_count": 2,
   "metadata": {},
   "outputs": [],
   "source": [
    "path = '../data/order_table_202208081749.csv'\n",
    "df = pd.read_csv(path, sep=';', parse_dates=['created_at_irpf', 'created_at_loan'])"
   ]
  },
  {
   "cell_type": "code",
   "execution_count": 3,
   "metadata": {},
   "outputs": [],
   "source": [
    "path = '../data/Dicionario_Grafia_Banco_SRF-v14.sav'\n",
    "bank_df = pd.read_spss(path)"
   ]
  },
  {
   "cell_type": "code",
   "execution_count": 4,
   "metadata": {},
   "outputs": [],
   "source": [
    "path = '../data/Dicionario_de_Agencias_e_Postos_Bancarios_com_Apelidos_v28.sav'\n",
    "branch_df = pd.read_spss(path)"
   ]
  },
  {
   "cell_type": "code",
   "execution_count": 5,
   "metadata": {},
   "outputs": [
    {
     "data": {
      "text/html": [
       "<div>\n",
       "<style scoped>\n",
       "    .dataframe tbody tr th:only-of-type {\n",
       "        vertical-align: middle;\n",
       "    }\n",
       "\n",
       "    .dataframe tbody tr th {\n",
       "        vertical-align: top;\n",
       "    }\n",
       "\n",
       "    .dataframe thead th {\n",
       "        text-align: right;\n",
       "    }\n",
       "</style>\n",
       "<table border=\"1\" class=\"dataframe\">\n",
       "  <thead>\n",
       "    <tr style=\"text-align: right;\">\n",
       "      <th></th>\n",
       "      <th>person_id</th>\n",
       "      <th>loan_id</th>\n",
       "      <th>irpf_id</th>\n",
       "      <th>created_at_irpf</th>\n",
       "      <th>created_at_loan</th>\n",
       "      <th>safra_created</th>\n",
       "      <th>product_code</th>\n",
       "      <th>state</th>\n",
       "      <th>rev</th>\n",
       "      <th>value</th>\n",
       "      <th>ordem</th>\n",
       "    </tr>\n",
       "  </thead>\n",
       "  <tbody>\n",
       "    <tr>\n",
       "      <th>0</th>\n",
       "      <td>1792740</td>\n",
       "      <td>12811556.0</td>\n",
       "      <td>32876504</td>\n",
       "      <td>2022-03-22</td>\n",
       "      <td>2022-03-22</td>\n",
       "      <td>202203</td>\n",
       "      <td>PERSONAL</td>\n",
       "      <td>3.0</td>\n",
       "      <td>9</td>\n",
       "      <td>{\"rev\":9,\"objType\":\"IrpfPersonInfoT\",\"personId...</td>\n",
       "      <td>1</td>\n",
       "    </tr>\n",
       "    <tr>\n",
       "      <th>1</th>\n",
       "      <td>15057615</td>\n",
       "      <td>NaN</td>\n",
       "      <td>33004278</td>\n",
       "      <td>2022-05-13</td>\n",
       "      <td>NaT</td>\n",
       "      <td>202205</td>\n",
       "      <td>NaN</td>\n",
       "      <td>NaN</td>\n",
       "      <td>10</td>\n",
       "      <td>{\"rev\":10,\"objType\":\"IrpfPersonInfoT\",\"personI...</td>\n",
       "      <td>1</td>\n",
       "    </tr>\n",
       "    <tr>\n",
       "      <th>2</th>\n",
       "      <td>14936007</td>\n",
       "      <td>12813121.0</td>\n",
       "      <td>32879551</td>\n",
       "      <td>2022-03-24</td>\n",
       "      <td>2022-03-24</td>\n",
       "      <td>202203</td>\n",
       "      <td>PERSONAL</td>\n",
       "      <td>2.0</td>\n",
       "      <td>10</td>\n",
       "      <td>{\"rev\":10,\"objType\":\"IrpfPersonInfoT\",\"personI...</td>\n",
       "      <td>1</td>\n",
       "    </tr>\n",
       "    <tr>\n",
       "      <th>3</th>\n",
       "      <td>2667826</td>\n",
       "      <td>12812575.0</td>\n",
       "      <td>32878530</td>\n",
       "      <td>2022-03-23</td>\n",
       "      <td>2022-03-23</td>\n",
       "      <td>202203</td>\n",
       "      <td>PERSONAL</td>\n",
       "      <td>3.0</td>\n",
       "      <td>6</td>\n",
       "      <td>{\"rev\":6,\"objType\":\"IrpfPersonInfoT\",\"personId...</td>\n",
       "      <td>1</td>\n",
       "    </tr>\n",
       "    <tr>\n",
       "      <th>4</th>\n",
       "      <td>15273265</td>\n",
       "      <td>12841289.0</td>\n",
       "      <td>32958660</td>\n",
       "      <td>2022-04-30</td>\n",
       "      <td>2022-04-30</td>\n",
       "      <td>202204</td>\n",
       "      <td>PERSONAL</td>\n",
       "      <td>5.0</td>\n",
       "      <td>8</td>\n",
       "      <td>{\"rev\":8,\"objType\":\"IrpfPersonInfoT\",\"personId...</td>\n",
       "      <td>1</td>\n",
       "    </tr>\n",
       "  </tbody>\n",
       "</table>\n",
       "</div>"
      ],
      "text/plain": [
       "   person_id     loan_id   irpf_id created_at_irpf created_at_loan  \\\n",
       "0    1792740  12811556.0  32876504      2022-03-22      2022-03-22   \n",
       "1   15057615         NaN  33004278      2022-05-13             NaT   \n",
       "2   14936007  12813121.0  32879551      2022-03-24      2022-03-24   \n",
       "3    2667826  12812575.0  32878530      2022-03-23      2022-03-23   \n",
       "4   15273265  12841289.0  32958660      2022-04-30      2022-04-30   \n",
       "\n",
       "   safra_created product_code  state  rev  \\\n",
       "0         202203     PERSONAL    3.0    9   \n",
       "1         202205          NaN    NaN   10   \n",
       "2         202203     PERSONAL    2.0   10   \n",
       "3         202203     PERSONAL    3.0    6   \n",
       "4         202204     PERSONAL    5.0    8   \n",
       "\n",
       "                                               value  ordem  \n",
       "0  {\"rev\":9,\"objType\":\"IrpfPersonInfoT\",\"personId...      1  \n",
       "1  {\"rev\":10,\"objType\":\"IrpfPersonInfoT\",\"personI...      1  \n",
       "2  {\"rev\":10,\"objType\":\"IrpfPersonInfoT\",\"personI...      1  \n",
       "3  {\"rev\":6,\"objType\":\"IrpfPersonInfoT\",\"personId...      1  \n",
       "4  {\"rev\":8,\"objType\":\"IrpfPersonInfoT\",\"personId...      1  "
      ]
     },
     "execution_count": 5,
     "metadata": {},
     "output_type": "execute_result"
    }
   ],
   "source": [
    "df.head()"
   ]
  },
  {
   "cell_type": "code",
   "execution_count": 6,
   "metadata": {},
   "outputs": [
    {
     "data": {
      "text/html": [
       "<div>\n",
       "<style scoped>\n",
       "    .dataframe tbody tr th:only-of-type {\n",
       "        vertical-align: middle;\n",
       "    }\n",
       "\n",
       "    .dataframe tbody tr th {\n",
       "        vertical-align: top;\n",
       "    }\n",
       "\n",
       "    .dataframe thead th {\n",
       "        text-align: right;\n",
       "    }\n",
       "</style>\n",
       "<table border=\"1\" class=\"dataframe\">\n",
       "  <thead>\n",
       "    <tr style=\"text-align: right;\">\n",
       "      <th></th>\n",
       "      <th>Bank</th>\n",
       "      <th>Branch</th>\n",
       "      <th>count</th>\n",
       "    </tr>\n",
       "  </thead>\n",
       "  <tbody>\n",
       "    <tr>\n",
       "      <th>0</th>\n",
       "      <td>001</td>\n",
       "      <td>0000</td>\n",
       "      <td>1</td>\n",
       "    </tr>\n",
       "    <tr>\n",
       "      <th>26930</th>\n",
       "      <td>275</td>\n",
       "      <td>0704</td>\n",
       "      <td>1</td>\n",
       "    </tr>\n",
       "    <tr>\n",
       "      <th>26923</th>\n",
       "      <td>275</td>\n",
       "      <td>0680</td>\n",
       "      <td>1</td>\n",
       "    </tr>\n",
       "    <tr>\n",
       "      <th>26924</th>\n",
       "      <td>275</td>\n",
       "      <td>0681</td>\n",
       "      <td>1</td>\n",
       "    </tr>\n",
       "    <tr>\n",
       "      <th>26925</th>\n",
       "      <td>275</td>\n",
       "      <td>0682</td>\n",
       "      <td>1</td>\n",
       "    </tr>\n",
       "    <tr>\n",
       "      <th>...</th>\n",
       "      <td>...</td>\n",
       "      <td>...</td>\n",
       "      <td>...</td>\n",
       "    </tr>\n",
       "    <tr>\n",
       "      <th>13463</th>\n",
       "      <td>041</td>\n",
       "      <td>0897</td>\n",
       "      <td>1</td>\n",
       "    </tr>\n",
       "    <tr>\n",
       "      <th>13464</th>\n",
       "      <td>041</td>\n",
       "      <td>0898</td>\n",
       "      <td>1</td>\n",
       "    </tr>\n",
       "    <tr>\n",
       "      <th>13465</th>\n",
       "      <td>041</td>\n",
       "      <td>0900</td>\n",
       "      <td>1</td>\n",
       "    </tr>\n",
       "    <tr>\n",
       "      <th>13466</th>\n",
       "      <td>041</td>\n",
       "      <td>0901</td>\n",
       "      <td>1</td>\n",
       "    </tr>\n",
       "    <tr>\n",
       "      <th>40389</th>\n",
       "      <td>M41</td>\n",
       "      <td>0000</td>\n",
       "      <td>1</td>\n",
       "    </tr>\n",
       "  </tbody>\n",
       "</table>\n",
       "<p>40390 rows × 3 columns</p>\n",
       "</div>"
      ],
      "text/plain": [
       "      Bank Branch  count\n",
       "0      001   0000      1\n",
       "26930  275   0704      1\n",
       "26923  275   0680      1\n",
       "26924  275   0681      1\n",
       "26925  275   0682      1\n",
       "...    ...    ...    ...\n",
       "13463  041   0897      1\n",
       "13464  041   0898      1\n",
       "13465  041   0900      1\n",
       "13466  041   0901      1\n",
       "40389  M41   0000      1\n",
       "\n",
       "[40390 rows x 3 columns]"
      ]
     },
     "execution_count": 6,
     "metadata": {},
     "output_type": "execute_result"
    }
   ],
   "source": [
    "branch_df.groupby(['Bank', 'Branch'])['BankName'].count().rename('count').reset_index().sort_values(by='count', ascending=False)"
   ]
  },
  {
   "cell_type": "markdown",
   "metadata": {},
   "source": [
    "### Transformation"
   ]
  },
  {
   "cell_type": "code",
   "execution_count": 235,
   "metadata": {},
   "outputs": [],
   "source": [
    "# Pad left side of branch with 0 to be 4 digits string\n",
    "# cut right side of branch string to keep only 4 first digits in string\n",
    "\n",
    "# Bank: convert from string name to string code of bank\n",
    "\n",
    "def get_json_value(data, key='riskInfo'):\n",
    "    try:\n",
    "        data = json.loads(data)\n",
    "    except:\n",
    "        data = {}\n",
    "    \n",
    "    return data.get(key, {})\n",
    "\n",
    "\n",
    "def get_bank_code(bank_name, df_bank: pd.DataFrame):\n",
    "    try:\n",
    "        bank_code = df_bank.loc[\n",
    "            df_bank['BankName'] == bank_name.upper(),\n",
    "            'Codigo_Banco'].item()\n",
    "    except ValueError as ve:\n",
    "        bank_code = '###'\n",
    "    \n",
    "    return bank_code\n",
    "\n",
    "def tax_to_pay(text):\n",
    "    if re.search('resultado encontrado: saldo inexistente', text.lower()):\n",
    "        return 'no_balance'\n",
    "    elif re.search('resultado encontrado: imposto a pagar', text.lower()):\n",
    "        return 'tax_to_pay'\n",
    "    elif (re.search('situação da restituição', text.lower()) or\n",
    "            re.search('em fila de restituição', text.lower())):\n",
    "        return 'refund'\n",
    "    else:\n",
    "        return 'error'\n",
    "\n",
    "\n",
    "def get_full_text(risk_dict):\n",
    "    year_list = list(risk_dict.keys())\n",
    "\n",
    "    full_msg_dict = {}\n",
    "\n",
    "    for year in year_list:\n",
    "        data = risk_dict.get(year, {})\n",
    "\n",
    "        if data['is_declaration']:\n",
    "            full_msg_dict[year] = data.get('full_status_text', '')\n",
    "\n",
    "    return full_msg_dict\n",
    "\n",
    "def get_full_text_series(risk_dict):\n",
    "    year_list = list(risk_dict.keys())\n",
    "\n",
    "    person_lst = []\n",
    "    year_lst = []\n",
    "    text_lst = []\n",
    "    state_lst = []\n",
    "\n",
    "\n",
    "    for year in year_list:\n",
    "        data = risk_dict.get(year, {})\n",
    "\n",
    "        if data.get('is_declaration', False):\n",
    "            person_lst = data.get('cpf', '')\n",
    "            year_lst.append(year)\n",
    "            txt = data.get('full_status_text', '')\n",
    "            text_lst.append(txt)\n",
    "            state_lst.append(tax_to_pay(txt.lower()))\n",
    "\n",
    "    return person_lst, year_lst, text_lst, state_lst\n",
    "\n",
    "def get_year_data(risk_dict):\n",
    "    year_list = list(risk_dict.keys())\n",
    "    \n",
    "    bank_branch_dict = {}\n",
    "\n",
    "    for year in year_list:\n",
    "        data = risk_dict.get(year, {})\n",
    "\n",
    "        if data.get('is_declaration', False):\n",
    "            if 'bank' in data:\n",
    "                bank_branch_dict[year] = {\n",
    "                                            'cpf': str(data.get('cpf', '')),\n",
    "                                            'bank': str(\n",
    "                                                get_bank_code(\n",
    "                                                    str(data.get('bank', '')),\n",
    "                                                    bank_df)\n",
    "                                                ).upper(),\n",
    "                                            'branch': str(\n",
    "                                                data.get('branch', '')\n",
    "                                                )[:4].zfill(4),\n",
    "                                            'state': tax_to_pay(\n",
    "                                                data.get('full_status_text', '')\n",
    "                                            )\n",
    "                                            \n",
    "                }\n",
    "            else:\n",
    "                bank_branch_dict[year] = {\n",
    "                                            'cpf': str(data.get('cpf', '')),\n",
    "                                            'state': tax_to_pay(\n",
    "                                                data.get('full_status_text', '')\n",
    "                                            )\n",
    "                }\n",
    "\n",
    "    return bank_branch_dict\n",
    "\n",
    "def set_irpf_columns(s):\n",
    "    risk_info = get_json_value(s)\n",
    "    a, b, c, d = get_full_text_series(risk_info)\n",
    "    \n",
    "    ds = pd.DataFrame()\n",
    "    ds['cpf'] = a\n",
    "    ds['year'] = b\n",
    "    ds['text'] = c\n",
    "    ds['state'] = d\n",
    "\n",
    "    return ds"
   ]
  },
  {
   "cell_type": "code",
   "execution_count": 124,
   "metadata": {},
   "outputs": [],
   "source": [
    "def get_json_value(df: pd.DataFrame, col: str):\n",
    "    '''Takes a pandas dataframe and a string column-name.\n",
    "    Extracts json object from specified column in dataframe.\n",
    "    Returns original dataframe joined with normalized json as columns.'''\n",
    "\n",
    "    try:\n",
    "        df = df.copy()\n",
    "    except Exception as e:\n",
    "        logger.debug(str(e))\n",
    "        raise(e)\n",
    "\n",
    "    try:\n",
    "        data = pd.json_normalize(\n",
    "            df[col].apply(\n",
    "                orjson.loads), max_level=0)\n",
    "    except KeyError as e:\n",
    "        logger.debug(str(e))\n",
    "        return df\n",
    "    else:\n",
    "        col_lst = data.columns.difference(df.columns)\n",
    "        return df.join(data[col_lst])\n",
    "\n",
    "def explode_dict_col(df, col='riskInfo'):\n",
    "    '''Explodes risk_dict where each row is a\n",
    "    tax report year.'''\n",
    "\n",
    "    df = df.copy()\n",
    "\n",
    "    df.loc[:, 'tax_report_data'] = (\n",
    "        df[col].apply(\n",
    "            lambda x: x.values()))\n",
    "\n",
    "    df = df.apply(pd.Series.explode).reset_index(drop=True).copy()\n",
    "\n",
    "    return df\n",
    "\n",
    "def extract_value_dict(data: dict, key: str, default=np.nan):\n",
    "    '''Function receives dictionary with key string\n",
    "    and returns value. If default is provided, returns\n",
    "    default value when key does not exist, otherwise returns nan.'''\n",
    "\n",
    "    try:\n",
    "        status = data.get(key, default)\n",
    "    except AttributeError as e:\n",
    "        logger.debug(str(e))\n",
    "        raise(e)\n",
    "\n",
    "    return status\n",
    "\n",
    "def map_normalize_dict(df: pd.DataFrame, col: str, map:dict):\n",
    "    '''Receives Pandas dataframe, column name and\n",
    "    dictionary containing new column names as keys and dict\n",
    "    keys as values. Normalizes dict column in dataframe and returns\n",
    "    original dataframe with new columns.'''\n",
    "\n",
    "    df = df.copy()\n",
    "\n",
    "    for new_col_name, dict_key in map.items():\n",
    "        df.loc[:, new_col_name] = df[col].apply(\n",
    "            lambda x: extract_value_dict(\n",
    "                data=x, key=dict_key))\n",
    "                \n",
    "    return df.fillna(value=np.nan)"
   ]
  },
  {
   "cell_type": "code",
   "execution_count": 189,
   "metadata": {},
   "outputs": [],
   "source": [
    "regex_not_consulted = re.compile(r'(^\\s*$|.*\\bdata\\sde\\snascimento\\sinformada.*'\n",
    "                                r'está\\sdive.*|^não\\scoletado[.]?$|\\bocorreu'\n",
    "                                r'\\suma\\sinconsistência\\s?[.]\\s?saldo[:]'\n",
    "                                r'\\s(rama|0004).*|^\\bocorreu\\suma\\sinconsistência'\n",
    "                                r'\\s?[.]$)', re.IGNORECASE)\n",
    "\n",
    "regex_not_declared = re.compile(r'(^consta\\sapresentação\\sde\\sdeclaração\\sanual'\n",
    "                                r'\\sde\\sisento\\b|^apresentação\\sda\\sdeclaração\\s'\n",
    "                                r'como\\sisento\\b|^declaração\\sconsta\\scomo\\sisento'\n",
    "                                r'|^(sua\\s)?declaração\\sconsta\\scomo\\spedido\\sde'\n",
    "                                r'\\sregularização\\b|^sua\\sdeclaração\\snão\\sconsta'\n",
    "                                r'\\sna\\sbase\\sde\\sdados\\b|^ainda\\snão\\sestá\\sna'\n",
    "                                r'\\sbase\\b)', re.IGNORECASE)\n",
    "\n",
    "regex_tax_refund = re.compile(r'(^creditada[.]?$|.*situação\\sda\\srestituição[:]'\n",
    "                                r'\\screditada\\b.*|.*\\ba\\sconsulta\\sà\\ssituação'\n",
    "                                r'\\sdessa\\sdeclaração\\ssomente\\sserá\\spermitida'\n",
    "                                r'\\spor\\smeio\\sdo\\scódigo\\sde\\sacesso\\b|^aguardando'\n",
    "                                r'\\sreagendamento\\spelo\\scontribuinte[.]?$|^devolvida'\n",
    "                                r'\\sà\\sreceita\\sfederal[,]\\sem\\srazão\\sdo\\snão\\sresgate\\b.*'\n",
    "                                r'|^enviada\\spara\\scrédito\\sno\\sbanco[.]?$|^reagendada'\n",
    "                                r'\\spara\\scrédito\\sno\\sbanco[.]?|^os\\sdados\\sda\\sliberação'\n",
    "                                r'\\sde\\ssua\\srestituição\\sestão\\sdescritos\\b.*|.*\\bsua'\n",
    "                                r'\\sdeclaração\\sestá\\sna\\sbase\\sde\\sdados\\sda\\sreceita\\b.*'\n",
    "                                r'|^está\\sna\\sbase[,]\\sutilize\\so\\sextrato\\sdo\\sirpf[.]?$'\n",
    "                                r'|^sua\\sdeclaração\\sjá\\sfoi\\sprocessada[.]?$)',\n",
    "                                re.IGNORECASE)"
   ]
  },
  {
   "cell_type": "code",
   "execution_count": 188,
   "metadata": {},
   "outputs": [
    {
     "data": {
      "text/plain": [
       "[('Declaração consta como pedido de regularização', '')]"
      ]
     },
     "execution_count": 188,
     "metadata": {},
     "output_type": "execute_result"
    }
   ],
   "source": [
    "regex_not_declared.findall('Declaração consta como pedido de regularização(PR)')"
   ]
  },
  {
   "cell_type": "code",
   "execution_count": 14,
   "metadata": {},
   "outputs": [
    {
     "data": {
      "text/html": [
       "<div>\n",
       "<style scoped>\n",
       "    .dataframe tbody tr th:only-of-type {\n",
       "        vertical-align: middle;\n",
       "    }\n",
       "\n",
       "    .dataframe tbody tr th {\n",
       "        vertical-align: top;\n",
       "    }\n",
       "\n",
       "    .dataframe thead th {\n",
       "        text-align: right;\n",
       "    }\n",
       "</style>\n",
       "<table border=\"1\" class=\"dataframe\">\n",
       "  <thead>\n",
       "    <tr style=\"text-align: right;\">\n",
       "      <th></th>\n",
       "      <th>person_id</th>\n",
       "      <th>loan_id</th>\n",
       "      <th>irpf_id</th>\n",
       "      <th>created_at_irpf</th>\n",
       "      <th>product_code</th>\n",
       "      <th>state</th>\n",
       "      <th>rev</th>\n",
       "      <th>year</th>\n",
       "      <th>tax_report_data</th>\n",
       "    </tr>\n",
       "  </thead>\n",
       "  <tbody>\n",
       "    <tr>\n",
       "      <th>0</th>\n",
       "      <td>1792740</td>\n",
       "      <td>12811556.0</td>\n",
       "      <td>32876504</td>\n",
       "      <td>2022-03-22</td>\n",
       "      <td>PERSONAL</td>\n",
       "      <td>3.0</td>\n",
       "      <td>9</td>\n",
       "      <td>2012</td>\n",
       "      <td>{'cpf': '86639277620', 'lot': '002', 'bank': '...</td>\n",
       "    </tr>\n",
       "    <tr>\n",
       "      <th>1</th>\n",
       "      <td>1792740</td>\n",
       "      <td>12811556.0</td>\n",
       "      <td>32876504</td>\n",
       "      <td>2022-03-22</td>\n",
       "      <td>PERSONAL</td>\n",
       "      <td>3.0</td>\n",
       "      <td>9</td>\n",
       "      <td>2013</td>\n",
       "      <td>{'cpf': '86639277620', 'data': [['Sua declaraç...</td>\n",
       "    </tr>\n",
       "    <tr>\n",
       "      <th>2</th>\n",
       "      <td>1792740</td>\n",
       "      <td>12811556.0</td>\n",
       "      <td>32876504</td>\n",
       "      <td>2022-03-22</td>\n",
       "      <td>PERSONAL</td>\n",
       "      <td>3.0</td>\n",
       "      <td>9</td>\n",
       "      <td>2015</td>\n",
       "      <td>{'cpf': '86639277620', 'data': [['Sua declaraç...</td>\n",
       "    </tr>\n",
       "    <tr>\n",
       "      <th>3</th>\n",
       "      <td>1792740</td>\n",
       "      <td>12811556.0</td>\n",
       "      <td>32876504</td>\n",
       "      <td>2022-03-22</td>\n",
       "      <td>PERSONAL</td>\n",
       "      <td>3.0</td>\n",
       "      <td>9</td>\n",
       "      <td>2016</td>\n",
       "      <td>{'cpf': '86639277620', 'data': [['Sua declaraç...</td>\n",
       "    </tr>\n",
       "    <tr>\n",
       "      <th>4</th>\n",
       "      <td>1792740</td>\n",
       "      <td>12811556.0</td>\n",
       "      <td>32876504</td>\n",
       "      <td>2022-03-22</td>\n",
       "      <td>PERSONAL</td>\n",
       "      <td>3.0</td>\n",
       "      <td>9</td>\n",
       "      <td>2017</td>\n",
       "      <td>{'cpf': '86639277620', 'data': [['Sua declaraç...</td>\n",
       "    </tr>\n",
       "  </tbody>\n",
       "</table>\n",
       "</div>"
      ],
      "text/plain": [
       "   person_id     loan_id   irpf_id created_at_irpf product_code  state  rev  \\\n",
       "0    1792740  12811556.0  32876504      2022-03-22     PERSONAL    3.0    9   \n",
       "1    1792740  12811556.0  32876504      2022-03-22     PERSONAL    3.0    9   \n",
       "2    1792740  12811556.0  32876504      2022-03-22     PERSONAL    3.0    9   \n",
       "3    1792740  12811556.0  32876504      2022-03-22     PERSONAL    3.0    9   \n",
       "4    1792740  12811556.0  32876504      2022-03-22     PERSONAL    3.0    9   \n",
       "\n",
       "   year                                    tax_report_data  \n",
       "0  2012  {'cpf': '86639277620', 'lot': '002', 'bank': '...  \n",
       "1  2013  {'cpf': '86639277620', 'data': [['Sua declaraç...  \n",
       "2  2015  {'cpf': '86639277620', 'data': [['Sua declaraç...  \n",
       "3  2016  {'cpf': '86639277620', 'data': [['Sua declaraç...  \n",
       "4  2017  {'cpf': '86639277620', 'data': [['Sua declaraç...  "
      ]
     },
     "execution_count": 14,
     "metadata": {},
     "output_type": "execute_result"
    }
   ],
   "source": [
    "cols = ['person_id', 'loan_id', 'irpf_id',\n",
    "        'created_at_irpf', 'product_code',\n",
    "        'state', 'rev', 'riskInfo']\n",
    "\n",
    "df = get_json_value(df, 'value')\n",
    "df = explode_dict_col(df[cols])\n",
    "df = df.rename(columns={'riskInfo': 'year'})\n",
    "\n",
    "df.head()"
   ]
  },
  {
   "cell_type": "code",
   "execution_count": 125,
   "metadata": {},
   "outputs": [],
   "source": [
    "col_key_map = {\n",
    "    'is_declaration': 'is_declaration',\n",
    "    'full_status_text': 'full_status_text',\n",
    "    'bank': 'bank',\n",
    "    'branch': 'branch'}\n",
    "\n",
    "df = map_normalize_dict(df, 'tax_report_data', col_key_map)"
   ]
  },
  {
   "cell_type": "code",
   "execution_count": 134,
   "metadata": {},
   "outputs": [
    {
     "data": {
      "text/plain": [
       "{'cpf': '13792298716',\n",
       " 'lot': '004',\n",
       " 'bank': 'BANCO DO BRASIL S.A',\n",
       " 'data': [['Os dados da liberação de sua restituição estão descritos abaixo:'],\n",
       "  ['Banco:', 'BANCO DO BRASIL S.A'],\n",
       "  ['Agência:', '0893'],\n",
       "  ['Lote:', '004'],\n",
       "  ['Disponível a partir de:', '31/08/2021'],\n",
       "  ['Situação da Restituição:',\n",
       "   'Enviada para crédito no banco. Para obter maiores informações sobre a situação da restitução, consulte o',\n",
       "   'Meu Imposto de Renda (Extrato da DIRPF)',\n",
       "   '.',\n",
       "   'Caso a restituição não tenha sido creditada, ligue para a Central de Atendimento BB 4004-0001 (capitais), 0800-729-0001 (demais localidades) e 0800-729-0088 (deficientes auditivos) ou entre em contato com qualquer agência do Banco do Brasil S.A. para solicitar/reagendar o crédito. Também é possível solicitar/reagendar o crédito pelo Portal BB acessando o endereço',\n",
       "   'https://www.bb.com.br/irpf',\n",
       "   '.'],\n",
       "  ['Ao consultar o andamento de sua restituição do Imposto sobre a Renda da Pessoa Física, confira  as oportunidades que o',\n",
       "   'Tesouro Direto',\n",
       "   'traz.\\xa0 Para o contribuinte que busca liquidez, segurança e rentabilidade, títulos públicos representam uma excelente alternativa de',\n",
       "   'investimento',\n",
       "   'a custos muito baixos. Visite o site do Programa:',\n",
       "   'https://www.tesourodireto.com.br',\n",
       "   '.'],\n",
       "  ['Em Brasília - DF', '30/04/2022', '14:13'],\n",
       "  ['versão 01.20180815']],\n",
       " 'name': 'PABLO EMANUEL GOMES DA SILVA',\n",
       " 'year': 2021,\n",
       " 'branch': '0893',\n",
       " 'status': 'Enviada para crédito no banco. Para obter maiores informações sobre a situação da restitução, consulte o',\n",
       " 'raw_data': '<!DOCTYPE HTML>\\n<html>\\n<head>\\n<meta content=\"text/html; charset=utf-8\" http-equiv=\"Content-Type\"/>\\n<title>Receita Federal do Brasil</title>\\n<link href=\"//www.receita.fazenda.gov.br/tema/css/rfb.css\" rel=\"stylesheet\"/>\\n<script data-main=\"//www.receita.fazenda.gov.br/tema/main-built.js\" src=\"//www.receita.fazenda.gov.br/tema/require.js\"></script>\\n<script src=\"//www.receita.fazenda.gov.br/estatistica/estatistica.js\"></script>\\n<script language=\"javascript\">\\r\\n\\t\\t\\tfunction aoSair(evento) {\\r\\n\\t\\t\\t\\t//if (window.Event) {\\r\\n\\t\\t\\t\\t//\\tdocument.captureEvents(Event.MOUSEUP);\\r\\n\\t\\t\\t\\t//}\\r\\n\\t\\t\\t\\t//alert(evento);\\r\\n\\t\\t\\t}\\r\\n\\t\\t\\t//alert(captureEvents(Event));\\r\\n\\t\\t</script>\\n</head>\\n<body bottommargin=\"0\" leftmargin=\"0\" marginheight=\"0\" marginwidth=\"0\" onunload=\"aoSair(document.captureEvents(window.Event))\" rightmargin=\"0\" topmargin=\"0\">\\n<div id=\"rfb-main-container\">\\n<h1>Situação das Declarações IRPF 2021</h1>\\n<blockquote>\\n<label>\\n<b>Prezado Contribuinte (CPF 137.922.987-16),</b>\\n</label>\\n<br/>\\n<br/>\\r\\n\\t\\t\\t\\t\\tPABLO EMANUEL GOMES DA SILVA\\r\\n\\t\\t\\t</blockquote>\\n<table align=\"center\" border=\"0\" cellpadding=\"1\" width=\"90%\">\\n<tr>\\n<td colspan=\"2\">\\n<!--<font face =\"Verdana, Arial, Helvetica, sans-serif\" color=\"black\" size=\"2\">-->\\n<font class=\"txtDadosContribuinte\">\\r\\n\\t\\t\\t\\t\\t\\t\\t\\t\\t\\tOs dados da liberação de sua restituição estão descritos abaixo:\\r\\n\\t\\t\\t\\t\\t\\t\\t\\t\\t</font>\\n</td>\\n</tr>\\n<tr><td>\\xa0</td></tr>\\n<tr>\\n<td width=\"18%\">\\n<!--<font face =\"Verdana, Arial, Helvetica, sans-serif\" color=\"#000080\" size=\"2\">-->\\n<font class=\"txtInfBancoContribuinte\">\\r\\n\\t\\t\\t\\t\\t\\t\\t\\t\\t\\tBanco:\\r\\n\\t\\t\\t\\t\\t\\t\\t\\t\\t</font>\\n</td>\\n<td width=\"84%\">\\n<!--<font face=\"Verdana, Arial, Helvetica, sans-serif\" size=\"3\">-->\\n<font class=\"txtInfBancoContribuinte2\">\\r\\n\\t\\t\\t\\t\\t\\t\\t\\t\\t\\tBANCO DO BRASIL S.A\\r\\n\\t\\t\\t\\t\\t\\t\\t\\t\\t</font>\\n</td>\\n</tr>\\n<tr>\\n<td>\\n<!--<font face=\"Verdana, Arial, Helvetica, sans-serif\" color=\"#000080\" size=\"2\">-->\\n<font class=\"txtInfBancoContribuinte\">\\r\\n\\t\\t\\t\\t\\t\\t\\t\\t\\t\\t\\tAgência:\\r\\n\\t\\t\\t\\t\\t\\t\\t\\t\\t\\t</font>\\n</td>\\n<td>\\n<!--<font face=\"Verdana, Arial, Helvetica, sans-serif\" size=\"3\">-->\\n<font class=\"txtInfBancoContribuinte2\">\\r\\n\\t\\t\\t\\t\\t\\t\\t\\t\\t\\t\\t0893\\r\\n\\t\\t\\t\\t\\t\\t\\t\\t\\t\\t</font>\\n</td>\\n</tr>\\n<tr>\\n<td>\\n<!--<font face=\"Verdana, Arial, Helvetica, sans-serif\" color=\"#000080\" size=\"2\">-->\\n<font class=\"txtInfBancoContribuinte\">\\r\\n\\t\\t\\t\\t\\t\\t\\t\\t\\t\\tLote:\\r\\n\\t\\t\\t\\t\\t\\t\\t\\t\\t</font>\\n</td>\\n<td>\\n<!--<font face=\"Verdana, Arial, Helvetica, sans-serif\" size=\"3\">-->\\n<font class=\"txtInfBancoContribuinte2\">\\r\\n\\t\\t\\t\\t\\t\\t\\t\\t\\t\\t004\\r\\n\\t\\t\\t\\t\\t\\t\\t\\t\\t</font>\\n</td>\\n</tr>\\n<tr>\\n<td>\\n<!--<font face=\"Verdana, Arial, Helvetica, sans-serif\" color=\"#000080\" size=\"2\">-->\\n<font class=\"txtInfBancoContribuinte\">\\r\\n\\t\\t\\t\\t\\t\\t\\t\\t\\t\\r\\n\\t\\t\\t\\t\\t\\t\\t\\t\\t\\tDisponível a partir de:\\r\\n\\t\\t\\t\\t\\t\\t\\t\\t\\t</font>\\n</td>\\n<td>\\n<!--<font face=\"Verdana, Arial, Helvetica, sans-serif\" size=\"3\">-->\\n<font class=\"txtInfBancoContribuinte2\">\\r\\n\\t\\t\\t\\t\\t\\t\\t\\t\\t\\r\\n\\t\\t\\t\\t\\t\\t\\t\\t\\t\\t31/08/2021\\r\\n\\t\\t\\t\\t\\t\\t\\t\\t\\t</font>\\n</td>\\n</tr>\\n<tr>\\n<td colspan=\"2\">\\n<br/>\\n<!--<font face=\"Verdana, Arial, Helvetica, sans-serif\" size=\"2\">-->\\n<font class=\"txtDadosContribuinte\">\\n<b>Situação da Restituição:</b>\\xa0Enviada para crédito no banco. Para obter maiores informações sobre a situação da restitução, consulte o <a href=\"https://www.gov.br/receitafederal/pt-br/assuntos/orientacao-tributaria/declaracoes-e-demonstrativos/dirpf/extrato-do-processamento-da-dirpf\" target=\"_blank\">Meu Imposto de Renda (Extrato da DIRPF)</a>.<br/><br/>Caso a restituição não tenha sido creditada, ligue para a Central de Atendimento BB 4004-0001 (capitais), 0800-729-0001 (demais localidades) e 0800-729-0088 (deficientes auditivos) ou entre em contato com qualquer agência do Banco do Brasil S.A. para solicitar/reagendar o crédito. Também é possível solicitar/reagendar o crédito pelo Portal BB acessando o endereço <a href=\"https://www.bb.com.br/irpf\" target=\"_blank\">https://www.bb.com.br/irpf</a>.\\r\\n\\t\\t\\t\\t\\t\\t\\t\\t\\t\\t\\t\\t</font>\\n</td>\\n</tr>\\n<tr>\\n<td colspan=\"2\">\\n<br/>\\n<font class=\"txtDadosContribuinte\">\\r\\n\\t\\t\\t\\t\\t\\t\\t\\t\\t\\t\\tAo consultar o andamento de sua restituição do Imposto sobre a Renda da Pessoa Física, confira  as oportunidades que o <b>Tesouro Direto</b> traz.\\xa0 Para o contribuinte que busca liquidez, segurança e rentabilidade, títulos públicos representam uma excelente alternativa de <b>investimento</b> a custos muito baixos. Visite o site do Programa: <a href=\"https://www.tesourodireto.com.br\" target=\"_blank\">https://www.tesourodireto.com.br</a>.\\r\\n\\t\\t\\t\\t\\t\\t\\t\\t\\t\\t\\t</font>\\n</td>\\n</tr>\\n</table>\\n<br/>\\n<table align=\"center\" border=\"0\" width=\"90%\">\\n<tr>\\n<td align=\"center\" width=\"33%\">\\n<!--<font face=\"Verdana, Arial, Helvetica, sans-serif\" size=\"2\">-->\\n<font class=\"txtDadosContribuinte\"> \\r\\n\\t\\t\\t\\t\\t\\t\\tEm Brasília - DF\\r\\n\\t\\t\\t\\t\\t\\t</font>\\n</td>\\n<td align=\"center\" width=\"33%\">\\n<!--<font face=\"Verdana, Arial, Helvetica, sans-serif\" size=\"2\">-->\\n<font class=\"txtDadosContribuinte\"> \\r\\n\\t\\t\\t\\t\\t\\t\\t30/04/2022\\r\\n\\t\\t\\t\\t\\t\\t</font>\\n</td>\\n<td align=\"center\">\\n<!--<font face=\"Verdana, Arial, Helvetica, sans-serif\" size=\"2\">-->\\n<font class=\"txtDadosContribuinte\"> \\r\\n\\t\\t\\t\\t\\t\\t\\t14:13\\r\\n\\t\\t\\t\\t\\t\\t</font>\\n</td>\\n</tr>\\n<tr>\\n<td align=\"center\" colspan=\"3\">\\n<!--<font face=\"Verdana, Arial, Helvetica, sans-serif\" size=\"2\" color=\"#FFFFFF\">-->\\n<font class=\"versaox\"> \\r\\n\\t\\t\\t\\t\\t\\t\\tversão 01.20180815\\r\\n\\t\\t\\t\\t\\t\\t</font>\\n</td>\\n</tr>\\n</table>\\n<hr width=\"95%\"/>\\n<table align=\"center\" border=\"0\" width=\"90%\">\\n<tr>\\n<td nowrap=\"\" width=\"33%\">\\xa0</td>\\n<td align=\"center\" width=\"33%\">\\n<input class=\"btn\" name=\"btnVoltar\" onclick=\"location.href=\\'../index.asp\\'\" type=\"button\" value=\"Voltar\"/>\\n</td>\\n<td align=\"right\" width=\"33%\">\\n<a href=\"javascript:window.print()\"><img border=\"0\" name=\"impressao\" src=\"https://www.receita.fazenda.gov.br/images/printer.gif\"/></a>\\n</td>\\n</tr>\\n</table>\\n<span class=\"Rodape\">\\n<span class=\"corpoRodape\">A Receita Federal agradece a sua visita. Para informações sobre política de privacidade e uso, <a href=\"https://www.gov.br/receitafederal/pt-br/acesso-a-informacao/politica-de-privacidade\">clique aqui</a>.\\r\\n\\t\\t<br/>\\n<a href=\"https://www.gov.br/receitafederal/pt-br/acesso-a-informacao/politica-de-privacidade/avisos/2014/atualize-sua-pagina\">Atualize sua página</a>\\xa0\\xa0\\xa0\\xa0\\xa0\\xa0\\xa0Versão: v.01R</span>\\n</span>\\n</div>\\n<script language=\"JavaScript\">\\r\\n\\t\\tfunction janela(aa){\\r\\n\\t\\t\\tmywindow = window.open(aa,\"wmaini\",\" status=no,left=155,top=320,toolbar=no, location=no,directories=no,status=no,menubar=no,scrollbars=no,resizable=no,maximized=0,width=630,height=130\");\\r\\n\\t\\t}\\r\\n\\t\\r\\n\\t\\tfunction abreCentralizado(cpf) {\\r\\n\\t\\t\\t//largura e altura desejados da janela (informa)\\r\\n\\t\\t\\twinwidth = 630; // largura da janela\\r\\n\\t\\t\\twinheight = 130; // altura da janela\\r\\n\\t\\t\\t//posição da janela\\r\\n\\t\\t\\twinleft  = 200; // valor padrão caso o browser não suporte (nao alterar)\\r\\n\\t\\t\\twintop    = 200; // valor padrão caso o browser não suporte (nao alterar)\\r\\n\\t\\t\\tif (parseInt(navigator.appVersion) >= 4){\\r\\n\\t\\t\\t\\twinleft = (screen.width / 2) - (winwidth / 2); // centraliza na horizontal\\r\\n\\t\\t\\t\\twintop = (screen.height / 2) - (winheight / 2); // centraliza na verical\\r\\n\\t\\t\\t}\\r\\n\\t\\t\\twindow.open(\\'recibo.asp?cpf=\\' + cpf + \\'\\', \\'_blank\\', \\'top=\\' + wintop + \\',left=\\' + winleft + \\',height=\\' + winheight + \\',width=\\' + winwidth);\\r\\n\\t\\t}\\r\\n\\t\\r\\n\\t\\tfunction click(){\\r\\n\\t\\t\\tif (event.button==2) {alert(\\'Sistema da Receita Federal - Desenvolvido pelo SERPRO\\')}\\r\\n\\t\\t}\\r\\n\\t\\tdocument.onmousedown=click\\r\\n\\t</script>\\n</body>\\n</html>\\n',\n",
       " 'birthdate': '1992-03-25',\n",
       " 'credit_date': '31/08/2021',\n",
       " 'is_declaration': False,\n",
       " 'full_status_text': 'Situação da Restituição: Enviada para crédito no banco. Para obter maiores informações sobre a situação da restitução, consulte o Meu Imposto de Renda (Extrato da DIRPF) . Caso a restituição não tenha sido creditada, ligue para a Central de Atendimento BB 4004-0001 (capitais), 0800-729-0001 (demais localidades) e 0800-729-0088 (deficientes auditivos) ou entre em contato com qualquer agência do Banco do Brasil S.A. para solicitar/reagendar o crédito. Também é possível solicitar/reagendar o crédito pelo Portal BB acessando o endereço https://www.bb.com.br/irpf .'}"
      ]
     },
     "execution_count": 134,
     "metadata": {},
     "output_type": "execute_result"
    }
   ],
   "source": [
    "df[(df['is_declaration']==False) & df['bank'].notnull()].tax_report_data.iloc[0]"
   ]
  },
  {
   "cell_type": "code",
   "execution_count": 121,
   "metadata": {},
   "outputs": [
    {
     "data": {
      "text/plain": [
       "person_id                0\n",
       "loan_id              14544\n",
       "irpf_id                  0\n",
       "created_at_irpf          0\n",
       "product_code         14544\n",
       "state                14544\n",
       "rev                      0\n",
       "year                     0\n",
       "tax_report_data          0\n",
       "is_declaration           0\n",
       "full_status_text         0\n",
       "bank                127004\n",
       "branch              127119\n",
       "status                   0\n",
       "dtype: int64"
      ]
     },
     "execution_count": 121,
     "metadata": {},
     "output_type": "execute_result"
    }
   ],
   "source": [
    "df.isna().sum()"
   ]
  },
  {
   "cell_type": "code",
   "execution_count": 62,
   "metadata": {},
   "outputs": [
    {
     "data": {
      "text/plain": [
       "0"
      ]
     },
     "execution_count": 62,
     "metadata": {},
     "output_type": "execute_result"
    }
   ],
   "source": [
    "a = False\n",
    "int(a)"
   ]
  },
  {
   "cell_type": "code",
   "execution_count": 19,
   "metadata": {},
   "outputs": [
    {
     "data": {
      "text/plain": [
       "bool"
      ]
     },
     "execution_count": 19,
     "metadata": {},
     "output_type": "execute_result"
    }
   ],
   "source": [
    "is_declaration(df.tax_report_data.loc[0])"
   ]
  },
  {
   "cell_type": "code",
   "execution_count": 14,
   "metadata": {},
   "outputs": [],
   "source": [
    "aux = pd.json_normalize(df['value'].apply(json.loads), max_level=0)"
   ]
  },
  {
   "cell_type": "code",
   "execution_count": 38,
   "metadata": {},
   "outputs": [
    {
     "data": {
      "text/plain": [
       "{'cpf': '86639277620',\n",
       " 'data': [['Sua declaração já foi processada.',\n",
       "   'Resultado encontrado: Saldo inexistente de imposto a pagar ou a restituir.'],\n",
       "  ['Em Brasília - DF', '22/03/2022', '22:18'],\n",
       "  ['versão 01.20180815']],\n",
       " 'name': 'REGINALDO HUMBERTO DOS SANTOS',\n",
       " 'year': 2015,\n",
       " 'status': 'Sua declaração já foi processada.',\n",
       " 'raw_data': '<!DOCTYPE HTML>\\n<html>\\n<head>\\n<meta content=\"text/html; charset=utf-8\" http-equiv=\"Content-Type\"/>\\n<title>Receita Federal do Brasil</title>\\n<link href=\"//www.receita.fazenda.gov.br/tema/css/rfb.css\" rel=\"stylesheet\"/>\\n<script data-main=\"//www.receita.fazenda.gov.br/tema/main-built.js\" src=\"//www.receita.fazenda.gov.br/tema/require.js\"></script>\\n<script src=\"//www.receita.fazenda.gov.br/estatistica/estatistica.js\"></script>\\n<script language=\"javascript\">\\r\\n\\t\\t\\tfunction aoSair(evento) {\\r\\n\\t\\t\\t\\t//if (window.Event) {\\r\\n\\t\\t\\t\\t//\\tdocument.captureEvents(Event.MOUSEUP);\\r\\n\\t\\t\\t\\t//}\\r\\n\\t\\t\\t\\t//alert(evento);\\r\\n\\t\\t\\t}\\r\\n\\t\\t\\t//alert(captureEvents(Event));\\r\\n\\t\\t</script>\\n</head>\\n<body bottommargin=\"0\" leftmargin=\"0\" marginheight=\"0\" marginwidth=\"0\" onunload=\"aoSair(document.captureEvents(window.Event))\" rightmargin=\"0\" topmargin=\"0\">\\n<div id=\"rfb-main-container\">\\n<h1>Situação das Declarações IRPF 2015</h1>\\n<blockquote>\\n<label>\\n<b>Prezado Contribuinte (CPF 866.392.776-20),</b>\\n</label>\\n<br/>\\n<br/>\\r\\n\\t\\t\\t\\t\\tREGINALDO HUMBERTO DOS SANTOS\\r\\n\\t\\t\\t</blockquote>\\n<table align=\"center\" border=\"0\" cellspacing=\"1\" style=\"margin-left: 40px;\" width=\"90%\">\\n<tr>\\n<td>\\r\\n\\t\\t\\t\\t\\t\\t\\r\\n\\t\\t\\t\\t\\t\\t\\tSua declaração já foi processada.<br/>Resultado encontrado: Saldo inexistente de imposto a pagar ou a restituir.<br/><br/><br/><br/>\\n</td>\\n</tr>\\n</table>\\n<table align=\"center\" border=\"0\" width=\"90%\">\\n<tr>\\n<td align=\"center\" width=\"33%\">\\n<!--<font face=\"Verdana, Arial, Helvetica, sans-serif\" size=\"2\">-->\\n<font class=\"txtDadosContribuinte\"> \\r\\n\\t\\t\\t\\t\\t\\t\\tEm Brasília - DF\\r\\n\\t\\t\\t\\t\\t\\t</font>\\n</td>\\n<td align=\"center\" width=\"33%\">\\n<!--<font face=\"Verdana, Arial, Helvetica, sans-serif\" size=\"2\">-->\\n<font class=\"txtDadosContribuinte\"> \\r\\n\\t\\t\\t\\t\\t\\t\\t22/03/2022\\r\\n\\t\\t\\t\\t\\t\\t</font>\\n</td>\\n<td align=\"center\">\\n<!--<font face=\"Verdana, Arial, Helvetica, sans-serif\" size=\"2\">-->\\n<font class=\"txtDadosContribuinte\"> \\r\\n\\t\\t\\t\\t\\t\\t\\t22:18\\r\\n\\t\\t\\t\\t\\t\\t</font>\\n</td>\\n</tr>\\n<tr>\\n<td align=\"center\" colspan=\"3\">\\n<!--<font face=\"Verdana, Arial, Helvetica, sans-serif\" size=\"2\" color=\"#FFFFFF\">-->\\n<font class=\"versaox\"> \\r\\n\\t\\t\\t\\t\\t\\t\\tversão 01.20180815\\r\\n\\t\\t\\t\\t\\t\\t</font>\\n</td>\\n</tr>\\n</table>\\n<hr width=\"95%\"/>\\n<table align=\"center\" border=\"0\" width=\"90%\">\\n<tr>\\n<td nowrap=\"\" width=\"33%\">\\xa0</td>\\n<td align=\"center\" width=\"33%\">\\n<input class=\"btn\" name=\"btnVoltar\" onclick=\"location.href=\\'../index.asp\\'\" type=\"button\" value=\"Voltar\"/>\\n</td>\\n<td align=\"right\" width=\"33%\">\\n<a href=\"javascript:window.print()\"><img border=\"0\" name=\"impressao\" src=\"https://www.receita.fazenda.gov.br/images/printer.gif\"/></a>\\n</td>\\n</tr>\\n</table>\\n<span class=\"Rodape\">\\n<span class=\"corpoRodape\">A Receita Federal agradece a sua visita. Para informações sobre política de privacidade e uso, <a href=\"https://www.gov.br/receitafederal/pt-br/acesso-a-informacao/politica-de-privacidade\">clique aqui</a>.\\r\\n\\t\\t<br/>\\n<a href=\"https://www.gov.br/receitafederal/pt-br/acesso-a-informacao/politica-de-privacidade/avisos/2014/atualize-sua-pagina\">Atualize sua página</a>\\xa0\\xa0\\xa0\\xa0\\xa0\\xa0\\xa0Versão: v.01R</span>\\n</span>\\n</div>\\n<script language=\"JavaScript\">\\r\\n\\t\\tfunction janela(aa){\\r\\n\\t\\t\\tmywindow = window.open(aa,\"wmaini\",\" status=no,left=155,top=320,toolbar=no, location=no,directories=no,status=no,menubar=no,scrollbars=no,resizable=no,maximized=0,width=630,height=130\");\\r\\n\\t\\t}\\r\\n\\t\\r\\n\\t\\tfunction abreCentralizado(cpf) {\\r\\n\\t\\t\\t//largura e altura desejados da janela (informa)\\r\\n\\t\\t\\twinwidth = 630; // largura da janela\\r\\n\\t\\t\\twinheight = 130; // altura da janela\\r\\n\\t\\t\\t//posição da janela\\r\\n\\t\\t\\twinleft  = 200; // valor padrão caso o browser não suporte (nao alterar)\\r\\n\\t\\t\\twintop    = 200; // valor padrão caso o browser não suporte (nao alterar)\\r\\n\\t\\t\\tif (parseInt(navigator.appVersion) >= 4){\\r\\n\\t\\t\\t\\twinleft = (screen.width / 2) - (winwidth / 2); // centraliza na horizontal\\r\\n\\t\\t\\t\\twintop = (screen.height / 2) - (winheight / 2); // centraliza na verical\\r\\n\\t\\t\\t}\\r\\n\\t\\t\\twindow.open(\\'recibo.asp?cpf=\\' + cpf + \\'\\', \\'_blank\\', \\'top=\\' + wintop + \\',left=\\' + winleft + \\',height=\\' + winheight + \\',width=\\' + winwidth);\\r\\n\\t\\t}\\r\\n\\t\\r\\n\\t\\tfunction click(){\\r\\n\\t\\t\\tif (event.button==2) {alert(\\'Sistema da Receita Federal - Desenvolvido pelo SERPRO\\')}\\r\\n\\t\\t}\\r\\n\\t\\tdocument.onmousedown=click\\r\\n\\t</script>\\n</body>\\n</html>\\n',\n",
       " 'birthdate': '1973-07-15',\n",
       " 'is_declaration': True,\n",
       " 'full_status_text': 'Sua declaração já foi processada. Resultado encontrado: Saldo inexistente de imposto a pagar ou a restituir.'}"
      ]
     },
     "execution_count": 38,
     "metadata": {},
     "output_type": "execute_result"
    }
   ],
   "source": [
    "aux['risk_data'] = aux.riskInfo.apply(lambda x: x.values())\n",
    "aux.apply(pd.Series.explode).rename(columns={'personId': 'person_id', 'riskInfo': 'year'}).reset_index(drop=True).risk_data.loc[2]"
   ]
  },
  {
   "cell_type": "code",
   "execution_count": 17,
   "metadata": {},
   "outputs": [
    {
     "data": {
      "text/plain": [
       "{'cpf': '86639277620',\n",
       " 'lot': '002',\n",
       " 'bank': 'ITAU UNIBANCO S.A.',\n",
       " 'data': [['Os dados da liberação de sua restituição estão descritos abaixo:'],\n",
       "  ['Banco:', 'ITAU UNIBANCO S.A.'],\n",
       "  ['Agência:', '3751'],\n",
       "  ['Lote:', '002'],\n",
       "  ['Disponível a partir de:', '16/07/2012'],\n",
       "  ['Situação da Restituição:',\n",
       "   'Creditada',\n",
       "   'Caso a restituição não tenha sido creditada, ligue para a Central de Atendimento BB 4004-0001 (capitais), 0800-729-0001 (demais localidades) e 0800-729-0088 (deficientes auditivos) ou entre em contato com qualquer agência do Banco do Brasil S.A. para solicitar/reagendar o crédito. Também é possível solicitar/reagendar o crédito pelo Portal BB acessando o endereço',\n",
       "   'https://www.bb.com.br/irpf',\n",
       "   '.'],\n",
       "  ['Ao consultar o andamento de sua restituição do Imposto sobre a Renda da Pessoa Física, confira  as oportunidades que o',\n",
       "   'Tesouro Direto',\n",
       "   'traz.\\xa0 Para o contribuinte que busca liquidez, segurança e rentabilidade, títulos públicos representam uma excelente alternativa de',\n",
       "   'investimento',\n",
       "   'a custos muito baixos. Visite o site do Programa:',\n",
       "   'https://www.tesourodireto.com.br',\n",
       "   '.'],\n",
       "  ['Em Brasília - DF', '22/03/2022', '22:18'],\n",
       "  ['versão 01.20180815']],\n",
       " 'name': 'REGINALDO HUMBERTO DOS SANTOS',\n",
       " 'year': 2012,\n",
       " 'branch': '3751',\n",
       " 'status': 'Creditada',\n",
       " 'raw_data': '<!DOCTYPE HTML>\\n<html>\\n<head>\\n<meta content=\"text/html; charset=utf-8\" http-equiv=\"Content-Type\"/>\\n<title>Receita Federal do Brasil</title>\\n<link href=\"//www.receita.fazenda.gov.br/tema/css/rfb.css\" rel=\"stylesheet\"/>\\n<script data-main=\"//www.receita.fazenda.gov.br/tema/main-built.js\" src=\"//www.receita.fazenda.gov.br/tema/require.js\"></script>\\n<script src=\"//www.receita.fazenda.gov.br/estatistica/estatistica.js\"></script>\\n<script language=\"javascript\">\\r\\n\\t\\t\\tfunction aoSair(evento) {\\r\\n\\t\\t\\t\\t//if (window.Event) {\\r\\n\\t\\t\\t\\t//\\tdocument.captureEvents(Event.MOUSEUP);\\r\\n\\t\\t\\t\\t//}\\r\\n\\t\\t\\t\\t//alert(evento);\\r\\n\\t\\t\\t}\\r\\n\\t\\t\\t//alert(captureEvents(Event));\\r\\n\\t\\t</script>\\n</head>\\n<body bottommargin=\"0\" leftmargin=\"0\" marginheight=\"0\" marginwidth=\"0\" onunload=\"aoSair(document.captureEvents(window.Event))\" rightmargin=\"0\" topmargin=\"0\">\\n<div id=\"rfb-main-container\">\\n<h1>Situação das Declarações IRPF 2012</h1>\\n<blockquote>\\n<label>\\n<b>Prezado Contribuinte (CPF 866.392.776-20),</b>\\n</label>\\n<br/>\\n<br/>\\r\\n\\t\\t\\t\\t\\tREGINALDO HUMBERTO DOS SANTOS\\r\\n\\t\\t\\t</blockquote>\\n<table align=\"center\" border=\"0\" cellpadding=\"1\" width=\"90%\">\\n<tr>\\n<td colspan=\"2\">\\n<!--<font face =\"Verdana, Arial, Helvetica, sans-serif\" color=\"black\" size=\"2\">-->\\n<font class=\"txtDadosContribuinte\">\\r\\n\\t\\t\\t\\t\\t\\t\\t\\t\\t\\tOs dados da liberação de sua restituição estão descritos abaixo:\\r\\n\\t\\t\\t\\t\\t\\t\\t\\t\\t</font>\\n</td>\\n</tr>\\n<tr><td>\\xa0</td></tr>\\n<tr>\\n<td width=\"18%\">\\n<!--<font face =\"Verdana, Arial, Helvetica, sans-serif\" color=\"#000080\" size=\"2\">-->\\n<font class=\"txtInfBancoContribuinte\">\\r\\n\\t\\t\\t\\t\\t\\t\\t\\t\\t\\tBanco:\\r\\n\\t\\t\\t\\t\\t\\t\\t\\t\\t</font>\\n</td>\\n<td width=\"84%\">\\n<!--<font face=\"Verdana, Arial, Helvetica, sans-serif\" size=\"3\">-->\\n<font class=\"txtInfBancoContribuinte2\">\\r\\n\\t\\t\\t\\t\\t\\t\\t\\t\\t\\tITAU UNIBANCO S.A.\\r\\n\\t\\t\\t\\t\\t\\t\\t\\t\\t</font>\\n</td>\\n</tr>\\n<tr>\\n<td>\\n<!--<font face=\"Verdana, Arial, Helvetica, sans-serif\" color=\"#000080\" size=\"2\">-->\\n<font class=\"txtInfBancoContribuinte\">\\r\\n\\t\\t\\t\\t\\t\\t\\t\\t\\t\\t\\tAgência:\\r\\n\\t\\t\\t\\t\\t\\t\\t\\t\\t\\t</font>\\n</td>\\n<td>\\n<!--<font face=\"Verdana, Arial, Helvetica, sans-serif\" size=\"3\">-->\\n<font class=\"txtInfBancoContribuinte2\">\\r\\n\\t\\t\\t\\t\\t\\t\\t\\t\\t\\t\\t3751\\r\\n\\t\\t\\t\\t\\t\\t\\t\\t\\t\\t</font>\\n</td>\\n</tr>\\n<tr>\\n<td>\\n<!--<font face=\"Verdana, Arial, Helvetica, sans-serif\" color=\"#000080\" size=\"2\">-->\\n<font class=\"txtInfBancoContribuinte\">\\r\\n\\t\\t\\t\\t\\t\\t\\t\\t\\t\\tLote:\\r\\n\\t\\t\\t\\t\\t\\t\\t\\t\\t</font>\\n</td>\\n<td>\\n<!--<font face=\"Verdana, Arial, Helvetica, sans-serif\" size=\"3\">-->\\n<font class=\"txtInfBancoContribuinte2\">\\r\\n\\t\\t\\t\\t\\t\\t\\t\\t\\t\\t002\\r\\n\\t\\t\\t\\t\\t\\t\\t\\t\\t</font>\\n</td>\\n</tr>\\n<tr>\\n<td>\\n<!--<font face=\"Verdana, Arial, Helvetica, sans-serif\" color=\"#000080\" size=\"2\">-->\\n<font class=\"txtInfBancoContribuinte\">\\r\\n\\t\\t\\t\\t\\t\\t\\t\\t\\t\\r\\n\\t\\t\\t\\t\\t\\t\\t\\t\\t\\tDisponível a partir de:\\r\\n\\t\\t\\t\\t\\t\\t\\t\\t\\t</font>\\n</td>\\n<td>\\n<!--<font face=\"Verdana, Arial, Helvetica, sans-serif\" size=\"3\">-->\\n<font class=\"txtInfBancoContribuinte2\">\\r\\n\\t\\t\\t\\t\\t\\t\\t\\t\\t\\r\\n\\t\\t\\t\\t\\t\\t\\t\\t\\t\\t16/07/2012\\r\\n\\t\\t\\t\\t\\t\\t\\t\\t\\t</font>\\n</td>\\n</tr>\\n<tr>\\n<td colspan=\"2\">\\n<br/>\\n<!--<font face=\"Verdana, Arial, Helvetica, sans-serif\" size=\"2\">-->\\n<font class=\"txtDadosContribuinte\">\\n<b>Situação da Restituição:</b>\\xa0Creditada<br/><br/>Caso a restituição não tenha sido creditada, ligue para a Central de Atendimento BB 4004-0001 (capitais), 0800-729-0001 (demais localidades) e 0800-729-0088 (deficientes auditivos) ou entre em contato com qualquer agência do Banco do Brasil S.A. para solicitar/reagendar o crédito. Também é possível solicitar/reagendar o crédito pelo Portal BB acessando o endereço <a href=\"https://www.bb.com.br/irpf\" target=\"_blank\">https://www.bb.com.br/irpf</a>.\\r\\n\\t\\t\\t\\t\\t\\t\\t\\t\\t\\t\\t\\t</font>\\n</td>\\n</tr>\\n<tr>\\n<td colspan=\"2\">\\n<br/>\\n<font class=\"txtDadosContribuinte\">\\r\\n\\t\\t\\t\\t\\t\\t\\t\\t\\t\\t\\tAo consultar o andamento de sua restituição do Imposto sobre a Renda da Pessoa Física, confira  as oportunidades que o <b>Tesouro Direto</b> traz.\\xa0 Para o contribuinte que busca liquidez, segurança e rentabilidade, títulos públicos representam uma excelente alternativa de <b>investimento</b> a custos muito baixos. Visite o site do Programa: <a href=\"https://www.tesourodireto.com.br\" target=\"_blank\">https://www.tesourodireto.com.br</a>.\\r\\n\\t\\t\\t\\t\\t\\t\\t\\t\\t\\t\\t</font>\\n</td>\\n</tr>\\n</table>\\n<br/>\\n<table align=\"center\" border=\"0\" width=\"90%\">\\n<tr>\\n<td align=\"center\" width=\"33%\">\\n<!--<font face=\"Verdana, Arial, Helvetica, sans-serif\" size=\"2\">-->\\n<font class=\"txtDadosContribuinte\"> \\r\\n\\t\\t\\t\\t\\t\\t\\tEm Brasília - DF\\r\\n\\t\\t\\t\\t\\t\\t</font>\\n</td>\\n<td align=\"center\" width=\"33%\">\\n<!--<font face=\"Verdana, Arial, Helvetica, sans-serif\" size=\"2\">-->\\n<font class=\"txtDadosContribuinte\"> \\r\\n\\t\\t\\t\\t\\t\\t\\t22/03/2022\\r\\n\\t\\t\\t\\t\\t\\t</font>\\n</td>\\n<td align=\"center\">\\n<!--<font face=\"Verdana, Arial, Helvetica, sans-serif\" size=\"2\">-->\\n<font class=\"txtDadosContribuinte\"> \\r\\n\\t\\t\\t\\t\\t\\t\\t22:18\\r\\n\\t\\t\\t\\t\\t\\t</font>\\n</td>\\n</tr>\\n<tr>\\n<td align=\"center\" colspan=\"3\">\\n<!--<font face=\"Verdana, Arial, Helvetica, sans-serif\" size=\"2\" color=\"#FFFFFF\">-->\\n<font class=\"versaox\"> \\r\\n\\t\\t\\t\\t\\t\\t\\tversão 01.20180815\\r\\n\\t\\t\\t\\t\\t\\t</font>\\n</td>\\n</tr>\\n</table>\\n<hr width=\"95%\"/>\\n<table align=\"center\" border=\"0\" width=\"90%\">\\n<tr>\\n<td nowrap=\"\" width=\"33%\">\\xa0</td>\\n<td align=\"center\" width=\"33%\">\\n<input class=\"btn\" name=\"btnVoltar\" onclick=\"location.href=\\'../index.asp\\'\" type=\"button\" value=\"Voltar\"/>\\n</td>\\n<td align=\"right\" width=\"33%\">\\n<a href=\"javascript:window.print()\"><img border=\"0\" name=\"impressao\" src=\"https://www.receita.fazenda.gov.br/images/printer.gif\"/></a>\\n</td>\\n</tr>\\n</table>\\n<span class=\"Rodape\">\\n<span class=\"corpoRodape\">A Receita Federal agradece a sua visita. Para informações sobre política de privacidade e uso, <a href=\"https://www.gov.br/receitafederal/pt-br/acesso-a-informacao/politica-de-privacidade\">clique aqui</a>.\\r\\n\\t\\t<br/>\\n<a href=\"https://www.gov.br/receitafederal/pt-br/acesso-a-informacao/politica-de-privacidade/avisos/2014/atualize-sua-pagina\">Atualize sua página</a>\\xa0\\xa0\\xa0\\xa0\\xa0\\xa0\\xa0Versão: v.01R</span>\\n</span>\\n</div>\\n<script language=\"JavaScript\">\\r\\n\\t\\tfunction janela(aa){\\r\\n\\t\\t\\tmywindow = window.open(aa,\"wmaini\",\" status=no,left=155,top=320,toolbar=no, location=no,directories=no,status=no,menubar=no,scrollbars=no,resizable=no,maximized=0,width=630,height=130\");\\r\\n\\t\\t}\\r\\n\\t\\r\\n\\t\\tfunction abreCentralizado(cpf) {\\r\\n\\t\\t\\t//largura e altura desejados da janela (informa)\\r\\n\\t\\t\\twinwidth = 630; // largura da janela\\r\\n\\t\\t\\twinheight = 130; // altura da janela\\r\\n\\t\\t\\t//posição da janela\\r\\n\\t\\t\\twinleft  = 200; // valor padrão caso o browser não suporte (nao alterar)\\r\\n\\t\\t\\twintop    = 200; // valor padrão caso o browser não suporte (nao alterar)\\r\\n\\t\\t\\tif (parseInt(navigator.appVersion) >= 4){\\r\\n\\t\\t\\t\\twinleft = (screen.width / 2) - (winwidth / 2); // centraliza na horizontal\\r\\n\\t\\t\\t\\twintop = (screen.height / 2) - (winheight / 2); // centraliza na verical\\r\\n\\t\\t\\t}\\r\\n\\t\\t\\twindow.open(\\'recibo.asp?cpf=\\' + cpf + \\'\\', \\'_blank\\', \\'top=\\' + wintop + \\',left=\\' + winleft + \\',height=\\' + winheight + \\',width=\\' + winwidth);\\r\\n\\t\\t}\\r\\n\\t\\r\\n\\t\\tfunction click(){\\r\\n\\t\\t\\tif (event.button==2) {alert(\\'Sistema da Receita Federal - Desenvolvido pelo SERPRO\\')}\\r\\n\\t\\t}\\r\\n\\t\\tdocument.onmousedown=click\\r\\n\\t</script>\\n</body>\\n</html>\\n',\n",
       " 'birthdate': '1973-07-15',\n",
       " 'credit_date': '16/07/2012',\n",
       " 'is_exemption': None,\n",
       " 'is_declaration': True,\n",
       " 'full_status_text': 'Situação da Restituição: Creditada Caso a restituição não tenha sido creditada, ligue para a Central de Atendimento BB 4004-0001 (capitais), 0800-729-0001 (demais localidades) e 0800-729-0088 (deficientes auditivos) ou entre em contato com qualquer agência do Banco do Brasil S.A. para solicitar/reagendar o crédito. Também é possível solicitar/reagendar o crédito pelo Portal BB acessando o endereço https://www.bb.com.br/irpf .'}"
      ]
     },
     "execution_count": 17,
     "metadata": {},
     "output_type": "execute_result"
    }
   ],
   "source": [
    "aux['riskInfo'].apply(pd.Series).loc[0]['2012']"
   ]
  },
  {
   "cell_type": "code",
   "execution_count": 349,
   "metadata": {},
   "outputs": [
    {
     "data": {
      "text/plain": [
       "{'2012': {'cpf': '86639277620',\n",
       "  'lot': '002',\n",
       "  'bank': 'ITAU UNIBANCO S.A.',\n",
       "  'data': [['Os dados da liberação de sua restituição estão descritos abaixo:'],\n",
       "   ['Banco:', 'ITAU UNIBANCO S.A.'],\n",
       "   ['Agência:', '3751'],\n",
       "   ['Lote:', '002'],\n",
       "   ['Disponível a partir de:', '16/07/2012'],\n",
       "   ['Situação da Restituição:',\n",
       "    'Creditada',\n",
       "    'Caso a restituição não tenha sido creditada, ligue para a Central de Atendimento BB 4004-0001 (capitais), 0800-729-0001 (demais localidades) e 0800-729-0088 (deficientes auditivos) ou entre em contato com qualquer agência do Banco do Brasil S.A. para solicitar/reagendar o crédito. Também é possível solicitar/reagendar o crédito pelo Portal BB acessando o endereço',\n",
       "    'https://www.bb.com.br/irpf',\n",
       "    '.'],\n",
       "   ['Ao consultar o andamento de sua restituição do Imposto sobre a Renda da Pessoa Física, confira  as oportunidades que o',\n",
       "    'Tesouro Direto',\n",
       "    'traz.\\xa0 Para o contribuinte que busca liquidez, segurança e rentabilidade, títulos públicos representam uma excelente alternativa de',\n",
       "    'investimento',\n",
       "    'a custos muito baixos. Visite o site do Programa:',\n",
       "    'https://www.tesourodireto.com.br',\n",
       "    '.'],\n",
       "   ['Em Brasília - DF', '22/03/2022', '22:18'],\n",
       "   ['versão 01.20180815']],\n",
       "  'name': 'REGINALDO HUMBERTO DOS SANTOS',\n",
       "  'year': 2012,\n",
       "  'branch': '3751',\n",
       "  'status': 'Creditada',\n",
       "  'raw_data': '<!DOCTYPE HTML>\\n<html>\\n<head>\\n<meta content=\"text/html; charset=utf-8\" http-equiv=\"Content-Type\"/>\\n<title>Receita Federal do Brasil</title>\\n<link href=\"//www.receita.fazenda.gov.br/tema/css/rfb.css\" rel=\"stylesheet\"/>\\n<script data-main=\"//www.receita.fazenda.gov.br/tema/main-built.js\" src=\"//www.receita.fazenda.gov.br/tema/require.js\"></script>\\n<script src=\"//www.receita.fazenda.gov.br/estatistica/estatistica.js\"></script>\\n<script language=\"javascript\">\\r\\n\\t\\t\\tfunction aoSair(evento) {\\r\\n\\t\\t\\t\\t//if (window.Event) {\\r\\n\\t\\t\\t\\t//\\tdocument.captureEvents(Event.MOUSEUP);\\r\\n\\t\\t\\t\\t//}\\r\\n\\t\\t\\t\\t//alert(evento);\\r\\n\\t\\t\\t}\\r\\n\\t\\t\\t//alert(captureEvents(Event));\\r\\n\\t\\t</script>\\n</head>\\n<body bottommargin=\"0\" leftmargin=\"0\" marginheight=\"0\" marginwidth=\"0\" onunload=\"aoSair(document.captureEvents(window.Event))\" rightmargin=\"0\" topmargin=\"0\">\\n<div id=\"rfb-main-container\">\\n<h1>Situação das Declarações IRPF 2012</h1>\\n<blockquote>\\n<label>\\n<b>Prezado Contribuinte (CPF 866.392.776-20),</b>\\n</label>\\n<br/>\\n<br/>\\r\\n\\t\\t\\t\\t\\tREGINALDO HUMBERTO DOS SANTOS\\r\\n\\t\\t\\t</blockquote>\\n<table align=\"center\" border=\"0\" cellpadding=\"1\" width=\"90%\">\\n<tr>\\n<td colspan=\"2\">\\n<!--<font face =\"Verdana, Arial, Helvetica, sans-serif\" color=\"black\" size=\"2\">-->\\n<font class=\"txtDadosContribuinte\">\\r\\n\\t\\t\\t\\t\\t\\t\\t\\t\\t\\tOs dados da liberação de sua restituição estão descritos abaixo:\\r\\n\\t\\t\\t\\t\\t\\t\\t\\t\\t</font>\\n</td>\\n</tr>\\n<tr><td>\\xa0</td></tr>\\n<tr>\\n<td width=\"18%\">\\n<!--<font face =\"Verdana, Arial, Helvetica, sans-serif\" color=\"#000080\" size=\"2\">-->\\n<font class=\"txtInfBancoContribuinte\">\\r\\n\\t\\t\\t\\t\\t\\t\\t\\t\\t\\tBanco:\\r\\n\\t\\t\\t\\t\\t\\t\\t\\t\\t</font>\\n</td>\\n<td width=\"84%\">\\n<!--<font face=\"Verdana, Arial, Helvetica, sans-serif\" size=\"3\">-->\\n<font class=\"txtInfBancoContribuinte2\">\\r\\n\\t\\t\\t\\t\\t\\t\\t\\t\\t\\tITAU UNIBANCO S.A.\\r\\n\\t\\t\\t\\t\\t\\t\\t\\t\\t</font>\\n</td>\\n</tr>\\n<tr>\\n<td>\\n<!--<font face=\"Verdana, Arial, Helvetica, sans-serif\" color=\"#000080\" size=\"2\">-->\\n<font class=\"txtInfBancoContribuinte\">\\r\\n\\t\\t\\t\\t\\t\\t\\t\\t\\t\\t\\tAgência:\\r\\n\\t\\t\\t\\t\\t\\t\\t\\t\\t\\t</font>\\n</td>\\n<td>\\n<!--<font face=\"Verdana, Arial, Helvetica, sans-serif\" size=\"3\">-->\\n<font class=\"txtInfBancoContribuinte2\">\\r\\n\\t\\t\\t\\t\\t\\t\\t\\t\\t\\t\\t3751\\r\\n\\t\\t\\t\\t\\t\\t\\t\\t\\t\\t</font>\\n</td>\\n</tr>\\n<tr>\\n<td>\\n<!--<font face=\"Verdana, Arial, Helvetica, sans-serif\" color=\"#000080\" size=\"2\">-->\\n<font class=\"txtInfBancoContribuinte\">\\r\\n\\t\\t\\t\\t\\t\\t\\t\\t\\t\\tLote:\\r\\n\\t\\t\\t\\t\\t\\t\\t\\t\\t</font>\\n</td>\\n<td>\\n<!--<font face=\"Verdana, Arial, Helvetica, sans-serif\" size=\"3\">-->\\n<font class=\"txtInfBancoContribuinte2\">\\r\\n\\t\\t\\t\\t\\t\\t\\t\\t\\t\\t002\\r\\n\\t\\t\\t\\t\\t\\t\\t\\t\\t</font>\\n</td>\\n</tr>\\n<tr>\\n<td>\\n<!--<font face=\"Verdana, Arial, Helvetica, sans-serif\" color=\"#000080\" size=\"2\">-->\\n<font class=\"txtInfBancoContribuinte\">\\r\\n\\t\\t\\t\\t\\t\\t\\t\\t\\t\\r\\n\\t\\t\\t\\t\\t\\t\\t\\t\\t\\tDisponível a partir de:\\r\\n\\t\\t\\t\\t\\t\\t\\t\\t\\t</font>\\n</td>\\n<td>\\n<!--<font face=\"Verdana, Arial, Helvetica, sans-serif\" size=\"3\">-->\\n<font class=\"txtInfBancoContribuinte2\">\\r\\n\\t\\t\\t\\t\\t\\t\\t\\t\\t\\r\\n\\t\\t\\t\\t\\t\\t\\t\\t\\t\\t16/07/2012\\r\\n\\t\\t\\t\\t\\t\\t\\t\\t\\t</font>\\n</td>\\n</tr>\\n<tr>\\n<td colspan=\"2\">\\n<br/>\\n<!--<font face=\"Verdana, Arial, Helvetica, sans-serif\" size=\"2\">-->\\n<font class=\"txtDadosContribuinte\">\\n<b>Situação da Restituição:</b>\\xa0Creditada<br/><br/>Caso a restituição não tenha sido creditada, ligue para a Central de Atendimento BB 4004-0001 (capitais), 0800-729-0001 (demais localidades) e 0800-729-0088 (deficientes auditivos) ou entre em contato com qualquer agência do Banco do Brasil S.A. para solicitar/reagendar o crédito. Também é possível solicitar/reagendar o crédito pelo Portal BB acessando o endereço <a href=\"https://www.bb.com.br/irpf\" target=\"_blank\">https://www.bb.com.br/irpf</a>.\\r\\n\\t\\t\\t\\t\\t\\t\\t\\t\\t\\t\\t\\t</font>\\n</td>\\n</tr>\\n<tr>\\n<td colspan=\"2\">\\n<br/>\\n<font class=\"txtDadosContribuinte\">\\r\\n\\t\\t\\t\\t\\t\\t\\t\\t\\t\\t\\tAo consultar o andamento de sua restituição do Imposto sobre a Renda da Pessoa Física, confira  as oportunidades que o <b>Tesouro Direto</b> traz.\\xa0 Para o contribuinte que busca liquidez, segurança e rentabilidade, títulos públicos representam uma excelente alternativa de <b>investimento</b> a custos muito baixos. Visite o site do Programa: <a href=\"https://www.tesourodireto.com.br\" target=\"_blank\">https://www.tesourodireto.com.br</a>.\\r\\n\\t\\t\\t\\t\\t\\t\\t\\t\\t\\t\\t</font>\\n</td>\\n</tr>\\n</table>\\n<br/>\\n<table align=\"center\" border=\"0\" width=\"90%\">\\n<tr>\\n<td align=\"center\" width=\"33%\">\\n<!--<font face=\"Verdana, Arial, Helvetica, sans-serif\" size=\"2\">-->\\n<font class=\"txtDadosContribuinte\"> \\r\\n\\t\\t\\t\\t\\t\\t\\tEm Brasília - DF\\r\\n\\t\\t\\t\\t\\t\\t</font>\\n</td>\\n<td align=\"center\" width=\"33%\">\\n<!--<font face=\"Verdana, Arial, Helvetica, sans-serif\" size=\"2\">-->\\n<font class=\"txtDadosContribuinte\"> \\r\\n\\t\\t\\t\\t\\t\\t\\t22/03/2022\\r\\n\\t\\t\\t\\t\\t\\t</font>\\n</td>\\n<td align=\"center\">\\n<!--<font face=\"Verdana, Arial, Helvetica, sans-serif\" size=\"2\">-->\\n<font class=\"txtDadosContribuinte\"> \\r\\n\\t\\t\\t\\t\\t\\t\\t22:18\\r\\n\\t\\t\\t\\t\\t\\t</font>\\n</td>\\n</tr>\\n<tr>\\n<td align=\"center\" colspan=\"3\">\\n<!--<font face=\"Verdana, Arial, Helvetica, sans-serif\" size=\"2\" color=\"#FFFFFF\">-->\\n<font class=\"versaox\"> \\r\\n\\t\\t\\t\\t\\t\\t\\tversão 01.20180815\\r\\n\\t\\t\\t\\t\\t\\t</font>\\n</td>\\n</tr>\\n</table>\\n<hr width=\"95%\"/>\\n<table align=\"center\" border=\"0\" width=\"90%\">\\n<tr>\\n<td nowrap=\"\" width=\"33%\">\\xa0</td>\\n<td align=\"center\" width=\"33%\">\\n<input class=\"btn\" name=\"btnVoltar\" onclick=\"location.href=\\'../index.asp\\'\" type=\"button\" value=\"Voltar\"/>\\n</td>\\n<td align=\"right\" width=\"33%\">\\n<a href=\"javascript:window.print()\"><img border=\"0\" name=\"impressao\" src=\"https://www.receita.fazenda.gov.br/images/printer.gif\"/></a>\\n</td>\\n</tr>\\n</table>\\n<span class=\"Rodape\">\\n<span class=\"corpoRodape\">A Receita Federal agradece a sua visita. Para informações sobre política de privacidade e uso, <a href=\"https://www.gov.br/receitafederal/pt-br/acesso-a-informacao/politica-de-privacidade\">clique aqui</a>.\\r\\n\\t\\t<br/>\\n<a href=\"https://www.gov.br/receitafederal/pt-br/acesso-a-informacao/politica-de-privacidade/avisos/2014/atualize-sua-pagina\">Atualize sua página</a>\\xa0\\xa0\\xa0\\xa0\\xa0\\xa0\\xa0Versão: v.01R</span>\\n</span>\\n</div>\\n<script language=\"JavaScript\">\\r\\n\\t\\tfunction janela(aa){\\r\\n\\t\\t\\tmywindow = window.open(aa,\"wmaini\",\" status=no,left=155,top=320,toolbar=no, location=no,directories=no,status=no,menubar=no,scrollbars=no,resizable=no,maximized=0,width=630,height=130\");\\r\\n\\t\\t}\\r\\n\\t\\r\\n\\t\\tfunction abreCentralizado(cpf) {\\r\\n\\t\\t\\t//largura e altura desejados da janela (informa)\\r\\n\\t\\t\\twinwidth = 630; // largura da janela\\r\\n\\t\\t\\twinheight = 130; // altura da janela\\r\\n\\t\\t\\t//posição da janela\\r\\n\\t\\t\\twinleft  = 200; // valor padrão caso o browser não suporte (nao alterar)\\r\\n\\t\\t\\twintop    = 200; // valor padrão caso o browser não suporte (nao alterar)\\r\\n\\t\\t\\tif (parseInt(navigator.appVersion) >= 4){\\r\\n\\t\\t\\t\\twinleft = (screen.width / 2) - (winwidth / 2); // centraliza na horizontal\\r\\n\\t\\t\\t\\twintop = (screen.height / 2) - (winheight / 2); // centraliza na verical\\r\\n\\t\\t\\t}\\r\\n\\t\\t\\twindow.open(\\'recibo.asp?cpf=\\' + cpf + \\'\\', \\'_blank\\', \\'top=\\' + wintop + \\',left=\\' + winleft + \\',height=\\' + winheight + \\',width=\\' + winwidth);\\r\\n\\t\\t}\\r\\n\\t\\r\\n\\t\\tfunction click(){\\r\\n\\t\\t\\tif (event.button==2) {alert(\\'Sistema da Receita Federal - Desenvolvido pelo SERPRO\\')}\\r\\n\\t\\t}\\r\\n\\t\\tdocument.onmousedown=click\\r\\n\\t</script>\\n</body>\\n</html>\\n',\n",
       "  'birthdate': '1973-07-15',\n",
       "  'credit_date': '16/07/2012',\n",
       "  'is_exemption': None,\n",
       "  'is_declaration': True,\n",
       "  'full_status_text': 'Situação da Restituição: Creditada Caso a restituição não tenha sido creditada, ligue para a Central de Atendimento BB 4004-0001 (capitais), 0800-729-0001 (demais localidades) e 0800-729-0088 (deficientes auditivos) ou entre em contato com qualquer agência do Banco do Brasil S.A. para solicitar/reagendar o crédito. Também é possível solicitar/reagendar o crédito pelo Portal BB acessando o endereço https://www.bb.com.br/irpf .'},\n",
       " '2013': {'cpf': '86639277620',\n",
       "  'data': [['Sua declaração já foi processada.',\n",
       "    'Resultado encontrado: Saldo inexistente de imposto a pagar ou a restituir.'],\n",
       "   ['Em Brasília - DF', '22/03/2022', '22:18'],\n",
       "   ['versão 01.20180815']],\n",
       "  'name': 'REGINALDO HUMBERTO DOS SANTOS',\n",
       "  'year': 2013,\n",
       "  'status': 'Sua declaração já foi processada.',\n",
       "  'raw_data': '<!DOCTYPE HTML>\\n<html>\\n<head>\\n<meta content=\"text/html; charset=utf-8\" http-equiv=\"Content-Type\"/>\\n<title>Receita Federal do Brasil</title>\\n<link href=\"//www.receita.fazenda.gov.br/tema/css/rfb.css\" rel=\"stylesheet\"/>\\n<script data-main=\"//www.receita.fazenda.gov.br/tema/main-built.js\" src=\"//www.receita.fazenda.gov.br/tema/require.js\"></script>\\n<script src=\"//www.receita.fazenda.gov.br/estatistica/estatistica.js\"></script>\\n<script language=\"javascript\">\\r\\n\\t\\t\\tfunction aoSair(evento) {\\r\\n\\t\\t\\t\\t//if (window.Event) {\\r\\n\\t\\t\\t\\t//\\tdocument.captureEvents(Event.MOUSEUP);\\r\\n\\t\\t\\t\\t//}\\r\\n\\t\\t\\t\\t//alert(evento);\\r\\n\\t\\t\\t}\\r\\n\\t\\t\\t//alert(captureEvents(Event));\\r\\n\\t\\t</script>\\n</head>\\n<body bottommargin=\"0\" leftmargin=\"0\" marginheight=\"0\" marginwidth=\"0\" onunload=\"aoSair(document.captureEvents(window.Event))\" rightmargin=\"0\" topmargin=\"0\">\\n<div id=\"rfb-main-container\">\\n<h1>Situação das Declarações IRPF 2013</h1>\\n<blockquote>\\n<label>\\n<b>Prezado Contribuinte (CPF 866.392.776-20),</b>\\n</label>\\n<br/>\\n<br/>\\r\\n\\t\\t\\t\\t\\tREGINALDO HUMBERTO DOS SANTOS\\r\\n\\t\\t\\t</blockquote>\\n<table align=\"center\" border=\"0\" cellspacing=\"1\" style=\"margin-left: 40px;\" width=\"90%\">\\n<tr>\\n<td>\\r\\n\\t\\t\\t\\t\\t\\t\\r\\n\\t\\t\\t\\t\\t\\t\\tSua declaração já foi processada.<br/>Resultado encontrado: Saldo inexistente de imposto a pagar ou a restituir.<br/><br/><br/><br/>\\n</td>\\n</tr>\\n</table>\\n<table align=\"center\" border=\"0\" width=\"90%\">\\n<tr>\\n<td align=\"center\" width=\"33%\">\\n<!--<font face=\"Verdana, Arial, Helvetica, sans-serif\" size=\"2\">-->\\n<font class=\"txtDadosContribuinte\"> \\r\\n\\t\\t\\t\\t\\t\\t\\tEm Brasília - DF\\r\\n\\t\\t\\t\\t\\t\\t</font>\\n</td>\\n<td align=\"center\" width=\"33%\">\\n<!--<font face=\"Verdana, Arial, Helvetica, sans-serif\" size=\"2\">-->\\n<font class=\"txtDadosContribuinte\"> \\r\\n\\t\\t\\t\\t\\t\\t\\t22/03/2022\\r\\n\\t\\t\\t\\t\\t\\t</font>\\n</td>\\n<td align=\"center\">\\n<!--<font face=\"Verdana, Arial, Helvetica, sans-serif\" size=\"2\">-->\\n<font class=\"txtDadosContribuinte\"> \\r\\n\\t\\t\\t\\t\\t\\t\\t22:18\\r\\n\\t\\t\\t\\t\\t\\t</font>\\n</td>\\n</tr>\\n<tr>\\n<td align=\"center\" colspan=\"3\">\\n<!--<font face=\"Verdana, Arial, Helvetica, sans-serif\" size=\"2\" color=\"#FFFFFF\">-->\\n<font class=\"versaox\"> \\r\\n\\t\\t\\t\\t\\t\\t\\tversão 01.20180815\\r\\n\\t\\t\\t\\t\\t\\t</font>\\n</td>\\n</tr>\\n</table>\\n<hr width=\"95%\"/>\\n<table align=\"center\" border=\"0\" width=\"90%\">\\n<tr>\\n<td nowrap=\"\" width=\"33%\">\\xa0</td>\\n<td align=\"center\" width=\"33%\">\\n<input class=\"btn\" name=\"btnVoltar\" onclick=\"location.href=\\'../index.asp\\'\" type=\"button\" value=\"Voltar\"/>\\n</td>\\n<td align=\"right\" width=\"33%\">\\n<a href=\"javascript:window.print()\"><img border=\"0\" name=\"impressao\" src=\"https://www.receita.fazenda.gov.br/images/printer.gif\"/></a>\\n</td>\\n</tr>\\n</table>\\n<span class=\"Rodape\">\\n<span class=\"corpoRodape\">A Receita Federal agradece a sua visita. Para informações sobre política de privacidade e uso, <a href=\"https://www.gov.br/receitafederal/pt-br/acesso-a-informacao/politica-de-privacidade\">clique aqui</a>.\\r\\n\\t\\t<br/>\\n<a href=\"https://www.gov.br/receitafederal/pt-br/acesso-a-informacao/politica-de-privacidade/avisos/2014/atualize-sua-pagina\">Atualize sua página</a>\\xa0\\xa0\\xa0\\xa0\\xa0\\xa0\\xa0Versão: v.01R</span>\\n</span>\\n</div>\\n<script language=\"JavaScript\">\\r\\n\\t\\tfunction janela(aa){\\r\\n\\t\\t\\tmywindow = window.open(aa,\"wmaini\",\" status=no,left=155,top=320,toolbar=no, location=no,directories=no,status=no,menubar=no,scrollbars=no,resizable=no,maximized=0,width=630,height=130\");\\r\\n\\t\\t}\\r\\n\\t\\r\\n\\t\\tfunction abreCentralizado(cpf) {\\r\\n\\t\\t\\t//largura e altura desejados da janela (informa)\\r\\n\\t\\t\\twinwidth = 630; // largura da janela\\r\\n\\t\\t\\twinheight = 130; // altura da janela\\r\\n\\t\\t\\t//posição da janela\\r\\n\\t\\t\\twinleft  = 200; // valor padrão caso o browser não suporte (nao alterar)\\r\\n\\t\\t\\twintop    = 200; // valor padrão caso o browser não suporte (nao alterar)\\r\\n\\t\\t\\tif (parseInt(navigator.appVersion) >= 4){\\r\\n\\t\\t\\t\\twinleft = (screen.width / 2) - (winwidth / 2); // centraliza na horizontal\\r\\n\\t\\t\\t\\twintop = (screen.height / 2) - (winheight / 2); // centraliza na verical\\r\\n\\t\\t\\t}\\r\\n\\t\\t\\twindow.open(\\'recibo.asp?cpf=\\' + cpf + \\'\\', \\'_blank\\', \\'top=\\' + wintop + \\',left=\\' + winleft + \\',height=\\' + winheight + \\',width=\\' + winwidth);\\r\\n\\t\\t}\\r\\n\\t\\r\\n\\t\\tfunction click(){\\r\\n\\t\\t\\tif (event.button==2) {alert(\\'Sistema da Receita Federal - Desenvolvido pelo SERPRO\\')}\\r\\n\\t\\t}\\r\\n\\t\\tdocument.onmousedown=click\\r\\n\\t</script>\\n</body>\\n</html>\\n',\n",
       "  'birthdate': '1973-07-15',\n",
       "  'is_declaration': True,\n",
       "  'full_status_text': 'Sua declaração já foi processada. Resultado encontrado: Saldo inexistente de imposto a pagar ou a restituir.'},\n",
       " '2015': {'cpf': '86639277620',\n",
       "  'data': [['Sua declaração já foi processada.',\n",
       "    'Resultado encontrado: Saldo inexistente de imposto a pagar ou a restituir.'],\n",
       "   ['Em Brasília - DF', '22/03/2022', '22:18'],\n",
       "   ['versão 01.20180815']],\n",
       "  'name': 'REGINALDO HUMBERTO DOS SANTOS',\n",
       "  'year': 2015,\n",
       "  'status': 'Sua declaração já foi processada.',\n",
       "  'raw_data': '<!DOCTYPE HTML>\\n<html>\\n<head>\\n<meta content=\"text/html; charset=utf-8\" http-equiv=\"Content-Type\"/>\\n<title>Receita Federal do Brasil</title>\\n<link href=\"//www.receita.fazenda.gov.br/tema/css/rfb.css\" rel=\"stylesheet\"/>\\n<script data-main=\"//www.receita.fazenda.gov.br/tema/main-built.js\" src=\"//www.receita.fazenda.gov.br/tema/require.js\"></script>\\n<script src=\"//www.receita.fazenda.gov.br/estatistica/estatistica.js\"></script>\\n<script language=\"javascript\">\\r\\n\\t\\t\\tfunction aoSair(evento) {\\r\\n\\t\\t\\t\\t//if (window.Event) {\\r\\n\\t\\t\\t\\t//\\tdocument.captureEvents(Event.MOUSEUP);\\r\\n\\t\\t\\t\\t//}\\r\\n\\t\\t\\t\\t//alert(evento);\\r\\n\\t\\t\\t}\\r\\n\\t\\t\\t//alert(captureEvents(Event));\\r\\n\\t\\t</script>\\n</head>\\n<body bottommargin=\"0\" leftmargin=\"0\" marginheight=\"0\" marginwidth=\"0\" onunload=\"aoSair(document.captureEvents(window.Event))\" rightmargin=\"0\" topmargin=\"0\">\\n<div id=\"rfb-main-container\">\\n<h1>Situação das Declarações IRPF 2015</h1>\\n<blockquote>\\n<label>\\n<b>Prezado Contribuinte (CPF 866.392.776-20),</b>\\n</label>\\n<br/>\\n<br/>\\r\\n\\t\\t\\t\\t\\tREGINALDO HUMBERTO DOS SANTOS\\r\\n\\t\\t\\t</blockquote>\\n<table align=\"center\" border=\"0\" cellspacing=\"1\" style=\"margin-left: 40px;\" width=\"90%\">\\n<tr>\\n<td>\\r\\n\\t\\t\\t\\t\\t\\t\\r\\n\\t\\t\\t\\t\\t\\t\\tSua declaração já foi processada.<br/>Resultado encontrado: Saldo inexistente de imposto a pagar ou a restituir.<br/><br/><br/><br/>\\n</td>\\n</tr>\\n</table>\\n<table align=\"center\" border=\"0\" width=\"90%\">\\n<tr>\\n<td align=\"center\" width=\"33%\">\\n<!--<font face=\"Verdana, Arial, Helvetica, sans-serif\" size=\"2\">-->\\n<font class=\"txtDadosContribuinte\"> \\r\\n\\t\\t\\t\\t\\t\\t\\tEm Brasília - DF\\r\\n\\t\\t\\t\\t\\t\\t</font>\\n</td>\\n<td align=\"center\" width=\"33%\">\\n<!--<font face=\"Verdana, Arial, Helvetica, sans-serif\" size=\"2\">-->\\n<font class=\"txtDadosContribuinte\"> \\r\\n\\t\\t\\t\\t\\t\\t\\t22/03/2022\\r\\n\\t\\t\\t\\t\\t\\t</font>\\n</td>\\n<td align=\"center\">\\n<!--<font face=\"Verdana, Arial, Helvetica, sans-serif\" size=\"2\">-->\\n<font class=\"txtDadosContribuinte\"> \\r\\n\\t\\t\\t\\t\\t\\t\\t22:18\\r\\n\\t\\t\\t\\t\\t\\t</font>\\n</td>\\n</tr>\\n<tr>\\n<td align=\"center\" colspan=\"3\">\\n<!--<font face=\"Verdana, Arial, Helvetica, sans-serif\" size=\"2\" color=\"#FFFFFF\">-->\\n<font class=\"versaox\"> \\r\\n\\t\\t\\t\\t\\t\\t\\tversão 01.20180815\\r\\n\\t\\t\\t\\t\\t\\t</font>\\n</td>\\n</tr>\\n</table>\\n<hr width=\"95%\"/>\\n<table align=\"center\" border=\"0\" width=\"90%\">\\n<tr>\\n<td nowrap=\"\" width=\"33%\">\\xa0</td>\\n<td align=\"center\" width=\"33%\">\\n<input class=\"btn\" name=\"btnVoltar\" onclick=\"location.href=\\'../index.asp\\'\" type=\"button\" value=\"Voltar\"/>\\n</td>\\n<td align=\"right\" width=\"33%\">\\n<a href=\"javascript:window.print()\"><img border=\"0\" name=\"impressao\" src=\"https://www.receita.fazenda.gov.br/images/printer.gif\"/></a>\\n</td>\\n</tr>\\n</table>\\n<span class=\"Rodape\">\\n<span class=\"corpoRodape\">A Receita Federal agradece a sua visita. Para informações sobre política de privacidade e uso, <a href=\"https://www.gov.br/receitafederal/pt-br/acesso-a-informacao/politica-de-privacidade\">clique aqui</a>.\\r\\n\\t\\t<br/>\\n<a href=\"https://www.gov.br/receitafederal/pt-br/acesso-a-informacao/politica-de-privacidade/avisos/2014/atualize-sua-pagina\">Atualize sua página</a>\\xa0\\xa0\\xa0\\xa0\\xa0\\xa0\\xa0Versão: v.01R</span>\\n</span>\\n</div>\\n<script language=\"JavaScript\">\\r\\n\\t\\tfunction janela(aa){\\r\\n\\t\\t\\tmywindow = window.open(aa,\"wmaini\",\" status=no,left=155,top=320,toolbar=no, location=no,directories=no,status=no,menubar=no,scrollbars=no,resizable=no,maximized=0,width=630,height=130\");\\r\\n\\t\\t}\\r\\n\\t\\r\\n\\t\\tfunction abreCentralizado(cpf) {\\r\\n\\t\\t\\t//largura e altura desejados da janela (informa)\\r\\n\\t\\t\\twinwidth = 630; // largura da janela\\r\\n\\t\\t\\twinheight = 130; // altura da janela\\r\\n\\t\\t\\t//posição da janela\\r\\n\\t\\t\\twinleft  = 200; // valor padrão caso o browser não suporte (nao alterar)\\r\\n\\t\\t\\twintop    = 200; // valor padrão caso o browser não suporte (nao alterar)\\r\\n\\t\\t\\tif (parseInt(navigator.appVersion) >= 4){\\r\\n\\t\\t\\t\\twinleft = (screen.width / 2) - (winwidth / 2); // centraliza na horizontal\\r\\n\\t\\t\\t\\twintop = (screen.height / 2) - (winheight / 2); // centraliza na verical\\r\\n\\t\\t\\t}\\r\\n\\t\\t\\twindow.open(\\'recibo.asp?cpf=\\' + cpf + \\'\\', \\'_blank\\', \\'top=\\' + wintop + \\',left=\\' + winleft + \\',height=\\' + winheight + \\',width=\\' + winwidth);\\r\\n\\t\\t}\\r\\n\\t\\r\\n\\t\\tfunction click(){\\r\\n\\t\\t\\tif (event.button==2) {alert(\\'Sistema da Receita Federal - Desenvolvido pelo SERPRO\\')}\\r\\n\\t\\t}\\r\\n\\t\\tdocument.onmousedown=click\\r\\n\\t</script>\\n</body>\\n</html>\\n',\n",
       "  'birthdate': '1973-07-15',\n",
       "  'is_declaration': True,\n",
       "  'full_status_text': 'Sua declaração já foi processada. Resultado encontrado: Saldo inexistente de imposto a pagar ou a restituir.'},\n",
       " '2016': {'cpf': '86639277620',\n",
       "  'data': [['Sua declaração já foi processada.',\n",
       "    'Resultado encontrado: Saldo inexistente de imposto a pagar ou a restituir.'],\n",
       "   ['Em Brasília - DF', '22/03/2022', '22:17'],\n",
       "   ['versão 01.20180815']],\n",
       "  'name': 'REGINALDO HUMBERTO DOS SANTOS',\n",
       "  'year': 2016,\n",
       "  'status': 'Sua declaração já foi processada.',\n",
       "  'raw_data': '<!DOCTYPE HTML>\\n<html>\\n<head>\\n<meta content=\"text/html; charset=utf-8\" http-equiv=\"Content-Type\"/>\\n<title>Receita Federal do Brasil</title>\\n<link href=\"//www.receita.fazenda.gov.br/tema/css/rfb.css\" rel=\"stylesheet\"/>\\n<script data-main=\"//www.receita.fazenda.gov.br/tema/main-built.js\" src=\"//www.receita.fazenda.gov.br/tema/require.js\"></script>\\n<script src=\"//www.receita.fazenda.gov.br/estatistica/estatistica.js\"></script>\\n<script language=\"javascript\">\\r\\n\\t\\t\\tfunction aoSair(evento) {\\r\\n\\t\\t\\t\\t//if (window.Event) {\\r\\n\\t\\t\\t\\t//\\tdocument.captureEvents(Event.MOUSEUP);\\r\\n\\t\\t\\t\\t//}\\r\\n\\t\\t\\t\\t//alert(evento);\\r\\n\\t\\t\\t}\\r\\n\\t\\t\\t//alert(captureEvents(Event));\\r\\n\\t\\t</script>\\n</head>\\n<body bottommargin=\"0\" leftmargin=\"0\" marginheight=\"0\" marginwidth=\"0\" onunload=\"aoSair(document.captureEvents(window.Event))\" rightmargin=\"0\" topmargin=\"0\">\\n<div id=\"rfb-main-container\">\\n<h1>Situação das Declarações IRPF 2016</h1>\\n<blockquote>\\n<label>\\n<b>Prezado Contribuinte (CPF 866.392.776-20),</b>\\n</label>\\n<br/>\\n<br/>\\r\\n\\t\\t\\t\\t\\tREGINALDO HUMBERTO DOS SANTOS\\r\\n\\t\\t\\t</blockquote>\\n<table align=\"center\" border=\"0\" cellspacing=\"1\" style=\"margin-left: 40px;\" width=\"90%\">\\n<tr>\\n<td>\\r\\n\\t\\t\\t\\t\\t\\t\\r\\n\\t\\t\\t\\t\\t\\t\\tSua declaração já foi processada.<br/>Resultado encontrado: Saldo inexistente de imposto a pagar ou a restituir.<br/><br/><br/><br/>\\n</td>\\n</tr>\\n</table>\\n<table align=\"center\" border=\"0\" width=\"90%\">\\n<tr>\\n<td align=\"center\" width=\"33%\">\\n<!--<font face=\"Verdana, Arial, Helvetica, sans-serif\" size=\"2\">-->\\n<font class=\"txtDadosContribuinte\"> \\r\\n\\t\\t\\t\\t\\t\\t\\tEm Brasília - DF\\r\\n\\t\\t\\t\\t\\t\\t</font>\\n</td>\\n<td align=\"center\" width=\"33%\">\\n<!--<font face=\"Verdana, Arial, Helvetica, sans-serif\" size=\"2\">-->\\n<font class=\"txtDadosContribuinte\"> \\r\\n\\t\\t\\t\\t\\t\\t\\t22/03/2022\\r\\n\\t\\t\\t\\t\\t\\t</font>\\n</td>\\n<td align=\"center\">\\n<!--<font face=\"Verdana, Arial, Helvetica, sans-serif\" size=\"2\">-->\\n<font class=\"txtDadosContribuinte\"> \\r\\n\\t\\t\\t\\t\\t\\t\\t22:17\\r\\n\\t\\t\\t\\t\\t\\t</font>\\n</td>\\n</tr>\\n<tr>\\n<td align=\"center\" colspan=\"3\">\\n<!--<font face=\"Verdana, Arial, Helvetica, sans-serif\" size=\"2\" color=\"#FFFFFF\">-->\\n<font class=\"versaox\"> \\r\\n\\t\\t\\t\\t\\t\\t\\tversão 01.20180815\\r\\n\\t\\t\\t\\t\\t\\t</font>\\n</td>\\n</tr>\\n</table>\\n<hr width=\"95%\"/>\\n<table align=\"center\" border=\"0\" width=\"90%\">\\n<tr>\\n<td nowrap=\"\" width=\"33%\">\\xa0</td>\\n<td align=\"center\" width=\"33%\">\\n<input class=\"btn\" name=\"btnVoltar\" onclick=\"location.href=\\'../index.asp\\'\" type=\"button\" value=\"Voltar\"/>\\n</td>\\n<td align=\"right\" width=\"33%\">\\n<a href=\"javascript:window.print()\"><img border=\"0\" name=\"impressao\" src=\"https://www.receita.fazenda.gov.br/images/printer.gif\"/></a>\\n</td>\\n</tr>\\n</table>\\n<span class=\"Rodape\">\\n<span class=\"corpoRodape\">A Receita Federal agradece a sua visita. Para informações sobre política de privacidade e uso, <a href=\"https://www.gov.br/receitafederal/pt-br/acesso-a-informacao/politica-de-privacidade\">clique aqui</a>.\\r\\n\\t\\t<br/>\\n<a href=\"https://www.gov.br/receitafederal/pt-br/acesso-a-informacao/politica-de-privacidade/avisos/2014/atualize-sua-pagina\">Atualize sua página</a>\\xa0\\xa0\\xa0\\xa0\\xa0\\xa0\\xa0Versão: v.01R</span>\\n</span>\\n</div>\\n<script language=\"JavaScript\">\\r\\n\\t\\tfunction janela(aa){\\r\\n\\t\\t\\tmywindow = window.open(aa,\"wmaini\",\" status=no,left=155,top=320,toolbar=no, location=no,directories=no,status=no,menubar=no,scrollbars=no,resizable=no,maximized=0,width=630,height=130\");\\r\\n\\t\\t}\\r\\n\\t\\r\\n\\t\\tfunction abreCentralizado(cpf) {\\r\\n\\t\\t\\t//largura e altura desejados da janela (informa)\\r\\n\\t\\t\\twinwidth = 630; // largura da janela\\r\\n\\t\\t\\twinheight = 130; // altura da janela\\r\\n\\t\\t\\t//posição da janela\\r\\n\\t\\t\\twinleft  = 200; // valor padrão caso o browser não suporte (nao alterar)\\r\\n\\t\\t\\twintop    = 200; // valor padrão caso o browser não suporte (nao alterar)\\r\\n\\t\\t\\tif (parseInt(navigator.appVersion) >= 4){\\r\\n\\t\\t\\t\\twinleft = (screen.width / 2) - (winwidth / 2); // centraliza na horizontal\\r\\n\\t\\t\\t\\twintop = (screen.height / 2) - (winheight / 2); // centraliza na verical\\r\\n\\t\\t\\t}\\r\\n\\t\\t\\twindow.open(\\'recibo.asp?cpf=\\' + cpf + \\'\\', \\'_blank\\', \\'top=\\' + wintop + \\',left=\\' + winleft + \\',height=\\' + winheight + \\',width=\\' + winwidth);\\r\\n\\t\\t}\\r\\n\\t\\r\\n\\t\\tfunction click(){\\r\\n\\t\\t\\tif (event.button==2) {alert(\\'Sistema da Receita Federal - Desenvolvido pelo SERPRO\\')}\\r\\n\\t\\t}\\r\\n\\t\\tdocument.onmousedown=click\\r\\n\\t</script>\\n</body>\\n</html>\\n',\n",
       "  'birthdate': '1973-07-15',\n",
       "  'is_declaration': True,\n",
       "  'full_status_text': 'Sua declaração já foi processada. Resultado encontrado: Saldo inexistente de imposto a pagar ou a restituir.'},\n",
       " '2017': {'cpf': '86639277620',\n",
       "  'data': [['Sua declaração já foi processada.',\n",
       "    'Resultado encontrado: Saldo inexistente de imposto a pagar ou a restituir.'],\n",
       "   ['Em Brasília - DF', '22/03/2022', '22:17'],\n",
       "   ['versão 01.20180815']],\n",
       "  'name': 'REGINALDO HUMBERTO DOS SANTOS',\n",
       "  'year': 2017,\n",
       "  'status': 'Sua declaração já foi processada.',\n",
       "  'raw_data': '<!DOCTYPE HTML>\\n<html>\\n<head>\\n<meta content=\"text/html; charset=utf-8\" http-equiv=\"Content-Type\"/>\\n<title>Receita Federal do Brasil</title>\\n<link href=\"//www.receita.fazenda.gov.br/tema/css/rfb.css\" rel=\"stylesheet\"/>\\n<script data-main=\"//www.receita.fazenda.gov.br/tema/main-built.js\" src=\"//www.receita.fazenda.gov.br/tema/require.js\"></script>\\n<script src=\"//www.receita.fazenda.gov.br/estatistica/estatistica.js\"></script>\\n<script language=\"javascript\">\\r\\n\\t\\t\\tfunction aoSair(evento) {\\r\\n\\t\\t\\t\\t//if (window.Event) {\\r\\n\\t\\t\\t\\t//\\tdocument.captureEvents(Event.MOUSEUP);\\r\\n\\t\\t\\t\\t//}\\r\\n\\t\\t\\t\\t//alert(evento);\\r\\n\\t\\t\\t}\\r\\n\\t\\t\\t//alert(captureEvents(Event));\\r\\n\\t\\t</script>\\n</head>\\n<body bottommargin=\"0\" leftmargin=\"0\" marginheight=\"0\" marginwidth=\"0\" onunload=\"aoSair(document.captureEvents(window.Event))\" rightmargin=\"0\" topmargin=\"0\">\\n<div id=\"rfb-main-container\">\\n<h1>Situação das Declarações IRPF 2017</h1>\\n<blockquote>\\n<label>\\n<b>Prezado Contribuinte (CPF 866.392.776-20),</b>\\n</label>\\n<br/>\\n<br/>\\r\\n\\t\\t\\t\\t\\tREGINALDO HUMBERTO DOS SANTOS\\r\\n\\t\\t\\t</blockquote>\\n<table align=\"center\" border=\"0\" cellspacing=\"1\" style=\"margin-left: 40px;\" width=\"90%\">\\n<tr>\\n<td>\\r\\n\\t\\t\\t\\t\\t\\t\\r\\n\\t\\t\\t\\t\\t\\t\\tSua declaração já foi processada.<br/>Resultado encontrado: Saldo inexistente de imposto a pagar ou a restituir.<br/><br/><br/><br/>\\n</td>\\n</tr>\\n</table>\\n<table align=\"center\" border=\"0\" width=\"90%\">\\n<tr>\\n<td align=\"center\" width=\"33%\">\\n<!--<font face=\"Verdana, Arial, Helvetica, sans-serif\" size=\"2\">-->\\n<font class=\"txtDadosContribuinte\"> \\r\\n\\t\\t\\t\\t\\t\\t\\tEm Brasília - DF\\r\\n\\t\\t\\t\\t\\t\\t</font>\\n</td>\\n<td align=\"center\" width=\"33%\">\\n<!--<font face=\"Verdana, Arial, Helvetica, sans-serif\" size=\"2\">-->\\n<font class=\"txtDadosContribuinte\"> \\r\\n\\t\\t\\t\\t\\t\\t\\t22/03/2022\\r\\n\\t\\t\\t\\t\\t\\t</font>\\n</td>\\n<td align=\"center\">\\n<!--<font face=\"Verdana, Arial, Helvetica, sans-serif\" size=\"2\">-->\\n<font class=\"txtDadosContribuinte\"> \\r\\n\\t\\t\\t\\t\\t\\t\\t22:17\\r\\n\\t\\t\\t\\t\\t\\t</font>\\n</td>\\n</tr>\\n<tr>\\n<td align=\"center\" colspan=\"3\">\\n<!--<font face=\"Verdana, Arial, Helvetica, sans-serif\" size=\"2\" color=\"#FFFFFF\">-->\\n<font class=\"versaox\"> \\r\\n\\t\\t\\t\\t\\t\\t\\tversão 01.20180815\\r\\n\\t\\t\\t\\t\\t\\t</font>\\n</td>\\n</tr>\\n</table>\\n<hr width=\"95%\"/>\\n<table align=\"center\" border=\"0\" width=\"90%\">\\n<tr>\\n<td nowrap=\"\" width=\"33%\">\\xa0</td>\\n<td align=\"center\" width=\"33%\">\\n<input class=\"btn\" name=\"btnVoltar\" onclick=\"location.href=\\'../index.asp\\'\" type=\"button\" value=\"Voltar\"/>\\n</td>\\n<td align=\"right\" width=\"33%\">\\n<a href=\"javascript:window.print()\"><img border=\"0\" name=\"impressao\" src=\"https://www.receita.fazenda.gov.br/images/printer.gif\"/></a>\\n</td>\\n</tr>\\n</table>\\n<span class=\"Rodape\">\\n<span class=\"corpoRodape\">A Receita Federal agradece a sua visita. Para informações sobre política de privacidade e uso, <a href=\"https://www.gov.br/receitafederal/pt-br/acesso-a-informacao/politica-de-privacidade\">clique aqui</a>.\\r\\n\\t\\t<br/>\\n<a href=\"https://www.gov.br/receitafederal/pt-br/acesso-a-informacao/politica-de-privacidade/avisos/2014/atualize-sua-pagina\">Atualize sua página</a>\\xa0\\xa0\\xa0\\xa0\\xa0\\xa0\\xa0Versão: v.01R</span>\\n</span>\\n</div>\\n<script language=\"JavaScript\">\\r\\n\\t\\tfunction janela(aa){\\r\\n\\t\\t\\tmywindow = window.open(aa,\"wmaini\",\" status=no,left=155,top=320,toolbar=no, location=no,directories=no,status=no,menubar=no,scrollbars=no,resizable=no,maximized=0,width=630,height=130\");\\r\\n\\t\\t}\\r\\n\\t\\r\\n\\t\\tfunction abreCentralizado(cpf) {\\r\\n\\t\\t\\t//largura e altura desejados da janela (informa)\\r\\n\\t\\t\\twinwidth = 630; // largura da janela\\r\\n\\t\\t\\twinheight = 130; // altura da janela\\r\\n\\t\\t\\t//posição da janela\\r\\n\\t\\t\\twinleft  = 200; // valor padrão caso o browser não suporte (nao alterar)\\r\\n\\t\\t\\twintop    = 200; // valor padrão caso o browser não suporte (nao alterar)\\r\\n\\t\\t\\tif (parseInt(navigator.appVersion) >= 4){\\r\\n\\t\\t\\t\\twinleft = (screen.width / 2) - (winwidth / 2); // centraliza na horizontal\\r\\n\\t\\t\\t\\twintop = (screen.height / 2) - (winheight / 2); // centraliza na verical\\r\\n\\t\\t\\t}\\r\\n\\t\\t\\twindow.open(\\'recibo.asp?cpf=\\' + cpf + \\'\\', \\'_blank\\', \\'top=\\' + wintop + \\',left=\\' + winleft + \\',height=\\' + winheight + \\',width=\\' + winwidth);\\r\\n\\t\\t}\\r\\n\\t\\r\\n\\t\\tfunction click(){\\r\\n\\t\\t\\tif (event.button==2) {alert(\\'Sistema da Receita Federal - Desenvolvido pelo SERPRO\\')}\\r\\n\\t\\t}\\r\\n\\t\\tdocument.onmousedown=click\\r\\n\\t</script>\\n</body>\\n</html>\\n',\n",
       "  'birthdate': '1973-07-15',\n",
       "  'is_declaration': True,\n",
       "  'full_status_text': 'Sua declaração já foi processada. Resultado encontrado: Saldo inexistente de imposto a pagar ou a restituir.'},\n",
       " '2018': {'cpf': '86639277620',\n",
       "  'data': [['Sua declaração já foi processada.',\n",
       "    'Resultado encontrado: Saldo inexistente de imposto a pagar ou a restituir.'],\n",
       "   ['Em Brasília - DF', '22/03/2022', '22:17'],\n",
       "   ['versão 01.20180815']],\n",
       "  'name': 'REGINALDO HUMBERTO DOS SANTOS',\n",
       "  'year': 2018,\n",
       "  'status': 'Sua declaração já foi processada.',\n",
       "  'raw_data': '<!DOCTYPE HTML>\\n<html>\\n<head>\\n<meta content=\"text/html; charset=utf-8\" http-equiv=\"Content-Type\"/>\\n<title>Receita Federal do Brasil</title>\\n<link href=\"//www.receita.fazenda.gov.br/tema/css/rfb.css\" rel=\"stylesheet\"/>\\n<script data-main=\"//www.receita.fazenda.gov.br/tema/main-built.js\" src=\"//www.receita.fazenda.gov.br/tema/require.js\"></script>\\n<script src=\"//www.receita.fazenda.gov.br/estatistica/estatistica.js\"></script>\\n<script language=\"javascript\">\\r\\n\\t\\t\\tfunction aoSair(evento) {\\r\\n\\t\\t\\t\\t//if (window.Event) {\\r\\n\\t\\t\\t\\t//\\tdocument.captureEvents(Event.MOUSEUP);\\r\\n\\t\\t\\t\\t//}\\r\\n\\t\\t\\t\\t//alert(evento);\\r\\n\\t\\t\\t}\\r\\n\\t\\t\\t//alert(captureEvents(Event));\\r\\n\\t\\t</script>\\n</head>\\n<body bottommargin=\"0\" leftmargin=\"0\" marginheight=\"0\" marginwidth=\"0\" onunload=\"aoSair(document.captureEvents(window.Event))\" rightmargin=\"0\" topmargin=\"0\">\\n<div id=\"rfb-main-container\">\\n<h1>Situação das Declarações IRPF 2018</h1>\\n<blockquote>\\n<label>\\n<b>Prezado Contribuinte (CPF 866.392.776-20),</b>\\n</label>\\n<br/>\\n<br/>\\r\\n\\t\\t\\t\\t\\tREGINALDO HUMBERTO DOS SANTOS\\r\\n\\t\\t\\t</blockquote>\\n<table align=\"center\" border=\"0\" cellspacing=\"1\" style=\"margin-left: 40px;\" width=\"90%\">\\n<tr>\\n<td>\\r\\n\\t\\t\\t\\t\\t\\t\\r\\n\\t\\t\\t\\t\\t\\t\\tSua declaração já foi processada.<br/>Resultado encontrado: Saldo inexistente de imposto a pagar ou a restituir.<br/><br/><br/><br/>\\n</td>\\n</tr>\\n</table>\\n<table align=\"center\" border=\"0\" width=\"90%\">\\n<tr>\\n<td align=\"center\" width=\"33%\">\\n<!--<font face=\"Verdana, Arial, Helvetica, sans-serif\" size=\"2\">-->\\n<font class=\"txtDadosContribuinte\"> \\r\\n\\t\\t\\t\\t\\t\\t\\tEm Brasília - DF\\r\\n\\t\\t\\t\\t\\t\\t</font>\\n</td>\\n<td align=\"center\" width=\"33%\">\\n<!--<font face=\"Verdana, Arial, Helvetica, sans-serif\" size=\"2\">-->\\n<font class=\"txtDadosContribuinte\"> \\r\\n\\t\\t\\t\\t\\t\\t\\t22/03/2022\\r\\n\\t\\t\\t\\t\\t\\t</font>\\n</td>\\n<td align=\"center\">\\n<!--<font face=\"Verdana, Arial, Helvetica, sans-serif\" size=\"2\">-->\\n<font class=\"txtDadosContribuinte\"> \\r\\n\\t\\t\\t\\t\\t\\t\\t22:17\\r\\n\\t\\t\\t\\t\\t\\t</font>\\n</td>\\n</tr>\\n<tr>\\n<td align=\"center\" colspan=\"3\">\\n<!--<font face=\"Verdana, Arial, Helvetica, sans-serif\" size=\"2\" color=\"#FFFFFF\">-->\\n<font class=\"versaox\"> \\r\\n\\t\\t\\t\\t\\t\\t\\tversão 01.20180815\\r\\n\\t\\t\\t\\t\\t\\t</font>\\n</td>\\n</tr>\\n</table>\\n<hr width=\"95%\"/>\\n<table align=\"center\" border=\"0\" width=\"90%\">\\n<tr>\\n<td nowrap=\"\" width=\"33%\">\\xa0</td>\\n<td align=\"center\" width=\"33%\">\\n<input class=\"btn\" name=\"btnVoltar\" onclick=\"location.href=\\'../index.asp\\'\" type=\"button\" value=\"Voltar\"/>\\n</td>\\n<td align=\"right\" width=\"33%\">\\n<a href=\"javascript:window.print()\"><img border=\"0\" name=\"impressao\" src=\"https://www.receita.fazenda.gov.br/images/printer.gif\"/></a>\\n</td>\\n</tr>\\n</table>\\n<span class=\"Rodape\">\\n<span class=\"corpoRodape\">A Receita Federal agradece a sua visita. Para informações sobre política de privacidade e uso, <a href=\"https://www.gov.br/receitafederal/pt-br/acesso-a-informacao/politica-de-privacidade\">clique aqui</a>.\\r\\n\\t\\t<br/>\\n<a href=\"https://www.gov.br/receitafederal/pt-br/acesso-a-informacao/politica-de-privacidade/avisos/2014/atualize-sua-pagina\">Atualize sua página</a>\\xa0\\xa0\\xa0\\xa0\\xa0\\xa0\\xa0Versão: v.01R</span>\\n</span>\\n</div>\\n<script language=\"JavaScript\">\\r\\n\\t\\tfunction janela(aa){\\r\\n\\t\\t\\tmywindow = window.open(aa,\"wmaini\",\" status=no,left=155,top=320,toolbar=no, location=no,directories=no,status=no,menubar=no,scrollbars=no,resizable=no,maximized=0,width=630,height=130\");\\r\\n\\t\\t}\\r\\n\\t\\r\\n\\t\\tfunction abreCentralizado(cpf) {\\r\\n\\t\\t\\t//largura e altura desejados da janela (informa)\\r\\n\\t\\t\\twinwidth = 630; // largura da janela\\r\\n\\t\\t\\twinheight = 130; // altura da janela\\r\\n\\t\\t\\t//posição da janela\\r\\n\\t\\t\\twinleft  = 200; // valor padrão caso o browser não suporte (nao alterar)\\r\\n\\t\\t\\twintop    = 200; // valor padrão caso o browser não suporte (nao alterar)\\r\\n\\t\\t\\tif (parseInt(navigator.appVersion) >= 4){\\r\\n\\t\\t\\t\\twinleft = (screen.width / 2) - (winwidth / 2); // centraliza na horizontal\\r\\n\\t\\t\\t\\twintop = (screen.height / 2) - (winheight / 2); // centraliza na verical\\r\\n\\t\\t\\t}\\r\\n\\t\\t\\twindow.open(\\'recibo.asp?cpf=\\' + cpf + \\'\\', \\'_blank\\', \\'top=\\' + wintop + \\',left=\\' + winleft + \\',height=\\' + winheight + \\',width=\\' + winwidth);\\r\\n\\t\\t}\\r\\n\\t\\r\\n\\t\\tfunction click(){\\r\\n\\t\\t\\tif (event.button==2) {alert(\\'Sistema da Receita Federal - Desenvolvido pelo SERPRO\\')}\\r\\n\\t\\t}\\r\\n\\t\\tdocument.onmousedown=click\\r\\n\\t</script>\\n</body>\\n</html>\\n',\n",
       "  'birthdate': '1973-07-15',\n",
       "  'is_declaration': True,\n",
       "  'full_status_text': 'Sua declaração já foi processada. Resultado encontrado: Saldo inexistente de imposto a pagar ou a restituir.'},\n",
       " '2019': {'cpf': '86639277620',\n",
       "  'data': [['Sua declaração já foi processada.',\n",
       "    'Resultado encontrado: Saldo inexistente de imposto a pagar ou a restituir.'],\n",
       "   ['Em Brasília - DF', '22/03/2022', '22:17'],\n",
       "   ['versão 01.20180815']],\n",
       "  'name': 'REGINALDO HUMBERTO DOS SANTOS',\n",
       "  'year': 2019,\n",
       "  'status': 'Sua declaração já foi processada.',\n",
       "  'raw_data': '<!DOCTYPE HTML>\\n<html>\\n<head>\\n<meta content=\"text/html; charset=utf-8\" http-equiv=\"Content-Type\"/>\\n<title>Receita Federal do Brasil</title>\\n<link href=\"//www.receita.fazenda.gov.br/tema/css/rfb.css\" rel=\"stylesheet\"/>\\n<script data-main=\"//www.receita.fazenda.gov.br/tema/main-built.js\" src=\"//www.receita.fazenda.gov.br/tema/require.js\"></script>\\n<script src=\"//www.receita.fazenda.gov.br/estatistica/estatistica.js\"></script>\\n<script language=\"javascript\">\\r\\n\\t\\t\\tfunction aoSair(evento) {\\r\\n\\t\\t\\t\\t//if (window.Event) {\\r\\n\\t\\t\\t\\t//\\tdocument.captureEvents(Event.MOUSEUP);\\r\\n\\t\\t\\t\\t//}\\r\\n\\t\\t\\t\\t//alert(evento);\\r\\n\\t\\t\\t}\\r\\n\\t\\t\\t//alert(captureEvents(Event));\\r\\n\\t\\t</script>\\n</head>\\n<body bottommargin=\"0\" leftmargin=\"0\" marginheight=\"0\" marginwidth=\"0\" onunload=\"aoSair(document.captureEvents(window.Event))\" rightmargin=\"0\" topmargin=\"0\">\\n<div id=\"rfb-main-container\">\\n<h1>Situação das Declarações IRPF 2019</h1>\\n<blockquote>\\n<label>\\n<b>Prezado Contribuinte (CPF 866.392.776-20),</b>\\n</label>\\n<br/>\\n<br/>\\r\\n\\t\\t\\t\\t\\tREGINALDO HUMBERTO DOS SANTOS\\r\\n\\t\\t\\t</blockquote>\\n<table align=\"center\" border=\"0\" cellspacing=\"1\" style=\"margin-left: 40px;\" width=\"90%\">\\n<tr>\\n<td>\\r\\n\\t\\t\\t\\t\\t\\t\\r\\n\\t\\t\\t\\t\\t\\t\\tSua declaração já foi processada.<br/>Resultado encontrado: Saldo inexistente de imposto a pagar ou a restituir.<br/><br/><br/><br/>\\n</td>\\n</tr>\\n</table>\\n<table align=\"center\" border=\"0\" width=\"90%\">\\n<tr>\\n<td align=\"center\" width=\"33%\">\\n<!--<font face=\"Verdana, Arial, Helvetica, sans-serif\" size=\"2\">-->\\n<font class=\"txtDadosContribuinte\"> \\r\\n\\t\\t\\t\\t\\t\\t\\tEm Brasília - DF\\r\\n\\t\\t\\t\\t\\t\\t</font>\\n</td>\\n<td align=\"center\" width=\"33%\">\\n<!--<font face=\"Verdana, Arial, Helvetica, sans-serif\" size=\"2\">-->\\n<font class=\"txtDadosContribuinte\"> \\r\\n\\t\\t\\t\\t\\t\\t\\t22/03/2022\\r\\n\\t\\t\\t\\t\\t\\t</font>\\n</td>\\n<td align=\"center\">\\n<!--<font face=\"Verdana, Arial, Helvetica, sans-serif\" size=\"2\">-->\\n<font class=\"txtDadosContribuinte\"> \\r\\n\\t\\t\\t\\t\\t\\t\\t22:17\\r\\n\\t\\t\\t\\t\\t\\t</font>\\n</td>\\n</tr>\\n<tr>\\n<td align=\"center\" colspan=\"3\">\\n<!--<font face=\"Verdana, Arial, Helvetica, sans-serif\" size=\"2\" color=\"#FFFFFF\">-->\\n<font class=\"versaox\"> \\r\\n\\t\\t\\t\\t\\t\\t\\tversão 01.20180815\\r\\n\\t\\t\\t\\t\\t\\t</font>\\n</td>\\n</tr>\\n</table>\\n<hr width=\"95%\"/>\\n<table align=\"center\" border=\"0\" width=\"90%\">\\n<tr>\\n<td nowrap=\"\" width=\"33%\">\\xa0</td>\\n<td align=\"center\" width=\"33%\">\\n<input class=\"btn\" name=\"btnVoltar\" onclick=\"location.href=\\'../index.asp\\'\" type=\"button\" value=\"Voltar\"/>\\n</td>\\n<td align=\"right\" width=\"33%\">\\n<a href=\"javascript:window.print()\"><img border=\"0\" name=\"impressao\" src=\"https://www.receita.fazenda.gov.br/images/printer.gif\"/></a>\\n</td>\\n</tr>\\n</table>\\n<span class=\"Rodape\">\\n<span class=\"corpoRodape\">A Receita Federal agradece a sua visita. Para informações sobre política de privacidade e uso, <a href=\"https://www.gov.br/receitafederal/pt-br/acesso-a-informacao/politica-de-privacidade\">clique aqui</a>.\\r\\n\\t\\t<br/>\\n<a href=\"https://www.gov.br/receitafederal/pt-br/acesso-a-informacao/politica-de-privacidade/avisos/2014/atualize-sua-pagina\">Atualize sua página</a>\\xa0\\xa0\\xa0\\xa0\\xa0\\xa0\\xa0Versão: v.01R</span>\\n</span>\\n</div>\\n<script language=\"JavaScript\">\\r\\n\\t\\tfunction janela(aa){\\r\\n\\t\\t\\tmywindow = window.open(aa,\"wmaini\",\" status=no,left=155,top=320,toolbar=no, location=no,directories=no,status=no,menubar=no,scrollbars=no,resizable=no,maximized=0,width=630,height=130\");\\r\\n\\t\\t}\\r\\n\\t\\r\\n\\t\\tfunction abreCentralizado(cpf) {\\r\\n\\t\\t\\t//largura e altura desejados da janela (informa)\\r\\n\\t\\t\\twinwidth = 630; // largura da janela\\r\\n\\t\\t\\twinheight = 130; // altura da janela\\r\\n\\t\\t\\t//posição da janela\\r\\n\\t\\t\\twinleft  = 200; // valor padrão caso o browser não suporte (nao alterar)\\r\\n\\t\\t\\twintop    = 200; // valor padrão caso o browser não suporte (nao alterar)\\r\\n\\t\\t\\tif (parseInt(navigator.appVersion) >= 4){\\r\\n\\t\\t\\t\\twinleft = (screen.width / 2) - (winwidth / 2); // centraliza na horizontal\\r\\n\\t\\t\\t\\twintop = (screen.height / 2) - (winheight / 2); // centraliza na verical\\r\\n\\t\\t\\t}\\r\\n\\t\\t\\twindow.open(\\'recibo.asp?cpf=\\' + cpf + \\'\\', \\'_blank\\', \\'top=\\' + wintop + \\',left=\\' + winleft + \\',height=\\' + winheight + \\',width=\\' + winwidth);\\r\\n\\t\\t}\\r\\n\\t\\r\\n\\t\\tfunction click(){\\r\\n\\t\\t\\tif (event.button==2) {alert(\\'Sistema da Receita Federal - Desenvolvido pelo SERPRO\\')}\\r\\n\\t\\t}\\r\\n\\t\\tdocument.onmousedown=click\\r\\n\\t</script>\\n</body>\\n</html>\\n',\n",
       "  'birthdate': '1973-07-15',\n",
       "  'is_declaration': True,\n",
       "  'full_status_text': 'Sua declaração já foi processada. Resultado encontrado: Saldo inexistente de imposto a pagar ou a restituir.'},\n",
       " '2020': {'cpf': '86639277620',\n",
       "  'lot': '005',\n",
       "  'bank': 'BANCO BRADESCO S.A.',\n",
       "  'data': [['Os dados da liberação de sua restituição estão descritos abaixo:'],\n",
       "   ['Banco:', 'BANCO BRADESCO S.A.'],\n",
       "   ['Agência:', '1952'],\n",
       "   ['Lote:', '005'],\n",
       "   ['Disponível a partir de:', '30/09/2020'],\n",
       "   ['Situação da Restituição:',\n",
       "    'Creditada',\n",
       "    'Caso a restituição não tenha sido creditada, ligue para a Central de Atendimento BB 4004-0001 (capitais), 0800-729-0001 (demais localidades) e 0800-729-0088 (deficientes auditivos) ou entre em contato com qualquer agência do Banco do Brasil S.A. para solicitar/reagendar o crédito. Também é possível solicitar/reagendar o crédito pelo Portal BB acessando o endereço',\n",
       "    'https://www.bb.com.br/irpf',\n",
       "    '.'],\n",
       "   ['Ao consultar o andamento de sua restituição do Imposto sobre a Renda da Pessoa Física, confira  as oportunidades que o',\n",
       "    'Tesouro Direto',\n",
       "    'traz.\\xa0 Para o contribuinte que busca liquidez, segurança e rentabilidade, títulos públicos representam uma excelente alternativa de',\n",
       "    'investimento',\n",
       "    'a custos muito baixos. Visite o site do Programa:',\n",
       "    'https://www.tesourodireto.com.br',\n",
       "    '.'],\n",
       "   ['Em Brasília - DF', '22/03/2022', '22:17'],\n",
       "   ['versão 01.20180815']],\n",
       "  'name': 'REGINALDO HUMBERTO DOS SANTOS',\n",
       "  'year': 2020,\n",
       "  'branch': '1952',\n",
       "  'status': 'Creditada',\n",
       "  'raw_data': '<!DOCTYPE HTML>\\n<html>\\n<head>\\n<meta content=\"text/html; charset=utf-8\" http-equiv=\"Content-Type\"/>\\n<title>Receita Federal do Brasil</title>\\n<link href=\"//www.receita.fazenda.gov.br/tema/css/rfb.css\" rel=\"stylesheet\"/>\\n<script data-main=\"//www.receita.fazenda.gov.br/tema/main-built.js\" src=\"//www.receita.fazenda.gov.br/tema/require.js\"></script>\\n<script src=\"//www.receita.fazenda.gov.br/estatistica/estatistica.js\"></script>\\n<script language=\"javascript\">\\r\\n\\t\\t\\tfunction aoSair(evento) {\\r\\n\\t\\t\\t\\t//if (window.Event) {\\r\\n\\t\\t\\t\\t//\\tdocument.captureEvents(Event.MOUSEUP);\\r\\n\\t\\t\\t\\t//}\\r\\n\\t\\t\\t\\t//alert(evento);\\r\\n\\t\\t\\t}\\r\\n\\t\\t\\t//alert(captureEvents(Event));\\r\\n\\t\\t</script>\\n</head>\\n<body bottommargin=\"0\" leftmargin=\"0\" marginheight=\"0\" marginwidth=\"0\" onunload=\"aoSair(document.captureEvents(window.Event))\" rightmargin=\"0\" topmargin=\"0\">\\n<div id=\"rfb-main-container\">\\n<h1>Situação das Declarações IRPF 2020</h1>\\n<blockquote>\\n<label>\\n<b>Prezado Contribuinte (CPF 866.392.776-20),</b>\\n</label>\\n<br/>\\n<br/>\\r\\n\\t\\t\\t\\t\\tREGINALDO HUMBERTO DOS SANTOS\\r\\n\\t\\t\\t</blockquote>\\n<table align=\"center\" border=\"0\" cellpadding=\"1\" width=\"90%\">\\n<tr>\\n<td colspan=\"2\">\\n<!--<font face =\"Verdana, Arial, Helvetica, sans-serif\" color=\"black\" size=\"2\">-->\\n<font class=\"txtDadosContribuinte\">\\r\\n\\t\\t\\t\\t\\t\\t\\t\\t\\t\\tOs dados da liberação de sua restituição estão descritos abaixo:\\r\\n\\t\\t\\t\\t\\t\\t\\t\\t\\t</font>\\n</td>\\n</tr>\\n<tr><td>\\xa0</td></tr>\\n<tr>\\n<td width=\"18%\">\\n<!--<font face =\"Verdana, Arial, Helvetica, sans-serif\" color=\"#000080\" size=\"2\">-->\\n<font class=\"txtInfBancoContribuinte\">\\r\\n\\t\\t\\t\\t\\t\\t\\t\\t\\t\\tBanco:\\r\\n\\t\\t\\t\\t\\t\\t\\t\\t\\t</font>\\n</td>\\n<td width=\"84%\">\\n<!--<font face=\"Verdana, Arial, Helvetica, sans-serif\" size=\"3\">-->\\n<font class=\"txtInfBancoContribuinte2\">\\r\\n\\t\\t\\t\\t\\t\\t\\t\\t\\t\\tBANCO BRADESCO S.A.\\r\\n\\t\\t\\t\\t\\t\\t\\t\\t\\t</font>\\n</td>\\n</tr>\\n<tr>\\n<td>\\n<!--<font face=\"Verdana, Arial, Helvetica, sans-serif\" color=\"#000080\" size=\"2\">-->\\n<font class=\"txtInfBancoContribuinte\">\\r\\n\\t\\t\\t\\t\\t\\t\\t\\t\\t\\t\\tAgência:\\r\\n\\t\\t\\t\\t\\t\\t\\t\\t\\t\\t</font>\\n</td>\\n<td>\\n<!--<font face=\"Verdana, Arial, Helvetica, sans-serif\" size=\"3\">-->\\n<font class=\"txtInfBancoContribuinte2\">\\r\\n\\t\\t\\t\\t\\t\\t\\t\\t\\t\\t\\t1952\\r\\n\\t\\t\\t\\t\\t\\t\\t\\t\\t\\t</font>\\n</td>\\n</tr>\\n<tr>\\n<td>\\n<!--<font face=\"Verdana, Arial, Helvetica, sans-serif\" color=\"#000080\" size=\"2\">-->\\n<font class=\"txtInfBancoContribuinte\">\\r\\n\\t\\t\\t\\t\\t\\t\\t\\t\\t\\tLote:\\r\\n\\t\\t\\t\\t\\t\\t\\t\\t\\t</font>\\n</td>\\n<td>\\n<!--<font face=\"Verdana, Arial, Helvetica, sans-serif\" size=\"3\">-->\\n<font class=\"txtInfBancoContribuinte2\">\\r\\n\\t\\t\\t\\t\\t\\t\\t\\t\\t\\t005\\r\\n\\t\\t\\t\\t\\t\\t\\t\\t\\t</font>\\n</td>\\n</tr>\\n<tr>\\n<td>\\n<!--<font face=\"Verdana, Arial, Helvetica, sans-serif\" color=\"#000080\" size=\"2\">-->\\n<font class=\"txtInfBancoContribuinte\">\\r\\n\\t\\t\\t\\t\\t\\t\\t\\t\\t\\r\\n\\t\\t\\t\\t\\t\\t\\t\\t\\t\\tDisponível a partir de:\\r\\n\\t\\t\\t\\t\\t\\t\\t\\t\\t</font>\\n</td>\\n<td>\\n<!--<font face=\"Verdana, Arial, Helvetica, sans-serif\" size=\"3\">-->\\n<font class=\"txtInfBancoContribuinte2\">\\r\\n\\t\\t\\t\\t\\t\\t\\t\\t\\t\\r\\n\\t\\t\\t\\t\\t\\t\\t\\t\\t\\t30/09/2020\\r\\n\\t\\t\\t\\t\\t\\t\\t\\t\\t</font>\\n</td>\\n</tr>\\n<tr>\\n<td colspan=\"2\">\\n<br/>\\n<!--<font face=\"Verdana, Arial, Helvetica, sans-serif\" size=\"2\">-->\\n<font class=\"txtDadosContribuinte\">\\n<b>Situação da Restituição:</b>\\xa0Creditada<br/><br/>Caso a restituição não tenha sido creditada, ligue para a Central de Atendimento BB 4004-0001 (capitais), 0800-729-0001 (demais localidades) e 0800-729-0088 (deficientes auditivos) ou entre em contato com qualquer agência do Banco do Brasil S.A. para solicitar/reagendar o crédito. Também é possível solicitar/reagendar o crédito pelo Portal BB acessando o endereço <a href=\"https://www.bb.com.br/irpf\" target=\"_blank\">https://www.bb.com.br/irpf</a>.\\r\\n\\t\\t\\t\\t\\t\\t\\t\\t\\t\\t\\t\\t</font>\\n</td>\\n</tr>\\n<tr>\\n<td colspan=\"2\">\\n<br/>\\n<font class=\"txtDadosContribuinte\">\\r\\n\\t\\t\\t\\t\\t\\t\\t\\t\\t\\t\\tAo consultar o andamento de sua restituição do Imposto sobre a Renda da Pessoa Física, confira  as oportunidades que o <b>Tesouro Direto</b> traz.\\xa0 Para o contribuinte que busca liquidez, segurança e rentabilidade, títulos públicos representam uma excelente alternativa de <b>investimento</b> a custos muito baixos. Visite o site do Programa: <a href=\"https://www.tesourodireto.com.br\" target=\"_blank\">https://www.tesourodireto.com.br</a>.\\r\\n\\t\\t\\t\\t\\t\\t\\t\\t\\t\\t\\t</font>\\n</td>\\n</tr>\\n</table>\\n<br/>\\n<table align=\"center\" border=\"0\" width=\"90%\">\\n<tr>\\n<td align=\"center\" width=\"33%\">\\n<!--<font face=\"Verdana, Arial, Helvetica, sans-serif\" size=\"2\">-->\\n<font class=\"txtDadosContribuinte\"> \\r\\n\\t\\t\\t\\t\\t\\t\\tEm Brasília - DF\\r\\n\\t\\t\\t\\t\\t\\t</font>\\n</td>\\n<td align=\"center\" width=\"33%\">\\n<!--<font face=\"Verdana, Arial, Helvetica, sans-serif\" size=\"2\">-->\\n<font class=\"txtDadosContribuinte\"> \\r\\n\\t\\t\\t\\t\\t\\t\\t22/03/2022\\r\\n\\t\\t\\t\\t\\t\\t</font>\\n</td>\\n<td align=\"center\">\\n<!--<font face=\"Verdana, Arial, Helvetica, sans-serif\" size=\"2\">-->\\n<font class=\"txtDadosContribuinte\"> \\r\\n\\t\\t\\t\\t\\t\\t\\t22:17\\r\\n\\t\\t\\t\\t\\t\\t</font>\\n</td>\\n</tr>\\n<tr>\\n<td align=\"center\" colspan=\"3\">\\n<!--<font face=\"Verdana, Arial, Helvetica, sans-serif\" size=\"2\" color=\"#FFFFFF\">-->\\n<font class=\"versaox\"> \\r\\n\\t\\t\\t\\t\\t\\t\\tversão 01.20180815\\r\\n\\t\\t\\t\\t\\t\\t</font>\\n</td>\\n</tr>\\n</table>\\n<hr width=\"95%\"/>\\n<table align=\"center\" border=\"0\" width=\"90%\">\\n<tr>\\n<td nowrap=\"\" width=\"33%\">\\xa0</td>\\n<td align=\"center\" width=\"33%\">\\n<input class=\"btn\" name=\"btnVoltar\" onclick=\"location.href=\\'../index.asp\\'\" type=\"button\" value=\"Voltar\"/>\\n</td>\\n<td align=\"right\" width=\"33%\">\\n<a href=\"javascript:window.print()\"><img border=\"0\" name=\"impressao\" src=\"https://www.receita.fazenda.gov.br/images/printer.gif\"/></a>\\n</td>\\n</tr>\\n</table>\\n<span class=\"Rodape\">\\n<span class=\"corpoRodape\">A Receita Federal agradece a sua visita. Para informações sobre política de privacidade e uso, <a href=\"https://www.gov.br/receitafederal/pt-br/acesso-a-informacao/politica-de-privacidade\">clique aqui</a>.\\r\\n\\t\\t<br/>\\n<a href=\"https://www.gov.br/receitafederal/pt-br/acesso-a-informacao/politica-de-privacidade/avisos/2014/atualize-sua-pagina\">Atualize sua página</a>\\xa0\\xa0\\xa0\\xa0\\xa0\\xa0\\xa0Versão: v.01R</span>\\n</span>\\n</div>\\n<script language=\"JavaScript\">\\r\\n\\t\\tfunction janela(aa){\\r\\n\\t\\t\\tmywindow = window.open(aa,\"wmaini\",\" status=no,left=155,top=320,toolbar=no, location=no,directories=no,status=no,menubar=no,scrollbars=no,resizable=no,maximized=0,width=630,height=130\");\\r\\n\\t\\t}\\r\\n\\t\\r\\n\\t\\tfunction abreCentralizado(cpf) {\\r\\n\\t\\t\\t//largura e altura desejados da janela (informa)\\r\\n\\t\\t\\twinwidth = 630; // largura da janela\\r\\n\\t\\t\\twinheight = 130; // altura da janela\\r\\n\\t\\t\\t//posição da janela\\r\\n\\t\\t\\twinleft  = 200; // valor padrão caso o browser não suporte (nao alterar)\\r\\n\\t\\t\\twintop    = 200; // valor padrão caso o browser não suporte (nao alterar)\\r\\n\\t\\t\\tif (parseInt(navigator.appVersion) >= 4){\\r\\n\\t\\t\\t\\twinleft = (screen.width / 2) - (winwidth / 2); // centraliza na horizontal\\r\\n\\t\\t\\t\\twintop = (screen.height / 2) - (winheight / 2); // centraliza na verical\\r\\n\\t\\t\\t}\\r\\n\\t\\t\\twindow.open(\\'recibo.asp?cpf=\\' + cpf + \\'\\', \\'_blank\\', \\'top=\\' + wintop + \\',left=\\' + winleft + \\',height=\\' + winheight + \\',width=\\' + winwidth);\\r\\n\\t\\t}\\r\\n\\t\\r\\n\\t\\tfunction click(){\\r\\n\\t\\t\\tif (event.button==2) {alert(\\'Sistema da Receita Federal - Desenvolvido pelo SERPRO\\')}\\r\\n\\t\\t}\\r\\n\\t\\tdocument.onmousedown=click\\r\\n\\t</script>\\n</body>\\n</html>\\n',\n",
       "  'birthdate': '1973-07-15',\n",
       "  'credit_date': '30/09/2020',\n",
       "  'is_declaration': True,\n",
       "  'full_status_text': 'Situação da Restituição: Creditada Caso a restituição não tenha sido creditada, ligue para a Central de Atendimento BB 4004-0001 (capitais), 0800-729-0001 (demais localidades) e 0800-729-0088 (deficientes auditivos) ou entre em contato com qualquer agência do Banco do Brasil S.A. para solicitar/reagendar o crédito. Também é possível solicitar/reagendar o crédito pelo Portal BB acessando o endereço https://www.bb.com.br/irpf .'},\n",
       " '2021': {'cpf': '86639277620',\n",
       "  'data': [['Sua declaração já foi processada.',\n",
       "    'Resultado encontrado: Saldo inexistente de imposto a pagar ou a restituir.'],\n",
       "   ['Em Brasília - DF', '22/03/2022', '22:17'],\n",
       "   ['versão 01.20180815']],\n",
       "  'name': 'REGINALDO HUMBERTO DOS SANTOS',\n",
       "  'year': 2021,\n",
       "  'status': 'Sua declaração já foi processada.',\n",
       "  'raw_data': '<!DOCTYPE HTML>\\n<html>\\n<head>\\n<meta content=\"text/html; charset=utf-8\" http-equiv=\"Content-Type\"/>\\n<title>Receita Federal do Brasil</title>\\n<link href=\"//www.receita.fazenda.gov.br/tema/css/rfb.css\" rel=\"stylesheet\"/>\\n<script data-main=\"//www.receita.fazenda.gov.br/tema/main-built.js\" src=\"//www.receita.fazenda.gov.br/tema/require.js\"></script>\\n<script src=\"//www.receita.fazenda.gov.br/estatistica/estatistica.js\"></script>\\n<script language=\"javascript\">\\r\\n\\t\\t\\tfunction aoSair(evento) {\\r\\n\\t\\t\\t\\t//if (window.Event) {\\r\\n\\t\\t\\t\\t//\\tdocument.captureEvents(Event.MOUSEUP);\\r\\n\\t\\t\\t\\t//}\\r\\n\\t\\t\\t\\t//alert(evento);\\r\\n\\t\\t\\t}\\r\\n\\t\\t\\t//alert(captureEvents(Event));\\r\\n\\t\\t</script>\\n</head>\\n<body bottommargin=\"0\" leftmargin=\"0\" marginheight=\"0\" marginwidth=\"0\" onunload=\"aoSair(document.captureEvents(window.Event))\" rightmargin=\"0\" topmargin=\"0\">\\n<div id=\"rfb-main-container\">\\n<h1>Situação das Declarações IRPF 2021</h1>\\n<blockquote>\\n<label>\\n<b>Prezado Contribuinte (CPF 866.392.776-20),</b>\\n</label>\\n<br/>\\n<br/>\\r\\n\\t\\t\\t\\t\\tREGINALDO HUMBERTO DOS SANTOS\\r\\n\\t\\t\\t</blockquote>\\n<table align=\"center\" border=\"0\" cellspacing=\"1\" style=\"margin-left: 40px;\" width=\"90%\">\\n<tr>\\n<td>\\r\\n\\t\\t\\t\\t\\t\\t\\r\\n\\t\\t\\t\\t\\t\\t\\tSua declaração já foi processada.<br/>Resultado encontrado: Saldo inexistente de imposto a pagar ou a restituir.<br/><br/><br/><br/>\\n</td>\\n</tr>\\n</table>\\n<table align=\"center\" border=\"0\" width=\"90%\">\\n<tr>\\n<td align=\"center\" width=\"33%\">\\n<!--<font face=\"Verdana, Arial, Helvetica, sans-serif\" size=\"2\">-->\\n<font class=\"txtDadosContribuinte\"> \\r\\n\\t\\t\\t\\t\\t\\t\\tEm Brasília - DF\\r\\n\\t\\t\\t\\t\\t\\t</font>\\n</td>\\n<td align=\"center\" width=\"33%\">\\n<!--<font face=\"Verdana, Arial, Helvetica, sans-serif\" size=\"2\">-->\\n<font class=\"txtDadosContribuinte\"> \\r\\n\\t\\t\\t\\t\\t\\t\\t22/03/2022\\r\\n\\t\\t\\t\\t\\t\\t</font>\\n</td>\\n<td align=\"center\">\\n<!--<font face=\"Verdana, Arial, Helvetica, sans-serif\" size=\"2\">-->\\n<font class=\"txtDadosContribuinte\"> \\r\\n\\t\\t\\t\\t\\t\\t\\t22:17\\r\\n\\t\\t\\t\\t\\t\\t</font>\\n</td>\\n</tr>\\n<tr>\\n<td align=\"center\" colspan=\"3\">\\n<!--<font face=\"Verdana, Arial, Helvetica, sans-serif\" size=\"2\" color=\"#FFFFFF\">-->\\n<font class=\"versaox\"> \\r\\n\\t\\t\\t\\t\\t\\t\\tversão 01.20180815\\r\\n\\t\\t\\t\\t\\t\\t</font>\\n</td>\\n</tr>\\n</table>\\n<hr width=\"95%\"/>\\n<table align=\"center\" border=\"0\" width=\"90%\">\\n<tr>\\n<td nowrap=\"\" width=\"33%\">\\xa0</td>\\n<td align=\"center\" width=\"33%\">\\n<input class=\"btn\" name=\"btnVoltar\" onclick=\"location.href=\\'../index.asp\\'\" type=\"button\" value=\"Voltar\"/>\\n</td>\\n<td align=\"right\" width=\"33%\">\\n<a href=\"javascript:window.print()\"><img border=\"0\" name=\"impressao\" src=\"https://www.receita.fazenda.gov.br/images/printer.gif\"/></a>\\n</td>\\n</tr>\\n</table>\\n<span class=\"Rodape\">\\n<span class=\"corpoRodape\">A Receita Federal agradece a sua visita. Para informações sobre política de privacidade e uso, <a href=\"https://www.gov.br/receitafederal/pt-br/acesso-a-informacao/politica-de-privacidade\">clique aqui</a>.\\r\\n\\t\\t<br/>\\n<a href=\"https://www.gov.br/receitafederal/pt-br/acesso-a-informacao/politica-de-privacidade/avisos/2014/atualize-sua-pagina\">Atualize sua página</a>\\xa0\\xa0\\xa0\\xa0\\xa0\\xa0\\xa0Versão: v.01R</span>\\n</span>\\n</div>\\n<script language=\"JavaScript\">\\r\\n\\t\\tfunction janela(aa){\\r\\n\\t\\t\\tmywindow = window.open(aa,\"wmaini\",\" status=no,left=155,top=320,toolbar=no, location=no,directories=no,status=no,menubar=no,scrollbars=no,resizable=no,maximized=0,width=630,height=130\");\\r\\n\\t\\t}\\r\\n\\t\\r\\n\\t\\tfunction abreCentralizado(cpf) {\\r\\n\\t\\t\\t//largura e altura desejados da janela (informa)\\r\\n\\t\\t\\twinwidth = 630; // largura da janela\\r\\n\\t\\t\\twinheight = 130; // altura da janela\\r\\n\\t\\t\\t//posição da janela\\r\\n\\t\\t\\twinleft  = 200; // valor padrão caso o browser não suporte (nao alterar)\\r\\n\\t\\t\\twintop    = 200; // valor padrão caso o browser não suporte (nao alterar)\\r\\n\\t\\t\\tif (parseInt(navigator.appVersion) >= 4){\\r\\n\\t\\t\\t\\twinleft = (screen.width / 2) - (winwidth / 2); // centraliza na horizontal\\r\\n\\t\\t\\t\\twintop = (screen.height / 2) - (winheight / 2); // centraliza na verical\\r\\n\\t\\t\\t}\\r\\n\\t\\t\\twindow.open(\\'recibo.asp?cpf=\\' + cpf + \\'\\', \\'_blank\\', \\'top=\\' + wintop + \\',left=\\' + winleft + \\',height=\\' + winheight + \\',width=\\' + winwidth);\\r\\n\\t\\t}\\r\\n\\t\\r\\n\\t\\tfunction click(){\\r\\n\\t\\t\\tif (event.button==2) {alert(\\'Sistema da Receita Federal - Desenvolvido pelo SERPRO\\')}\\r\\n\\t\\t}\\r\\n\\t\\tdocument.onmousedown=click\\r\\n\\t</script>\\n</body>\\n</html>\\n',\n",
       "  'birthdate': '1973-07-15',\n",
       "  'is_declaration': True,\n",
       "  'full_status_text': 'Sua declaração já foi processada. Resultado encontrado: Saldo inexistente de imposto a pagar ou a restituir.'}}"
      ]
     },
     "execution_count": 349,
     "metadata": {},
     "output_type": "execute_result"
    }
   ],
   "source": [
    "json.loads(df['value'].loc[0])['riskInfo']"
   ]
  },
  {
   "cell_type": "code",
   "execution_count": 298,
   "metadata": {},
   "outputs": [
    {
     "data": {
      "text/plain": [
       "True"
      ]
     },
     "execution_count": 298,
     "metadata": {},
     "output_type": "execute_result"
    }
   ],
   "source": [
    "json.loads(df['value'].loc[0])['riskInfo'].get('2019', {}).get('is_declaration', '')"
   ]
  },
  {
   "cell_type": "code",
   "execution_count": 304,
   "metadata": {},
   "outputs": [
    {
     "data": {
      "text/plain": [
       "0        Situação da Restituição: Creditada Caso a rest...\n",
       "1        Sua declaração já foi processada. Resultado en...\n",
       "2        Sua declaração já foi processada. Resultado en...\n",
       "3        Sua declaração já foi processada. Resultado en...\n",
       "4        Sua declaração já foi processada. Resultado en...\n",
       "                               ...                        \n",
       "51725    Sua declaração já foi processada. Resultado en...\n",
       "51726    Sua declaração já foi processada. Resultado en...\n",
       "51727    Sua declaração já foi processada. Resultado en...\n",
       "51728    Sua declaração já foi processada. Resultado en...\n",
       "51729    Sua declaração já foi processada. Resultado en...\n",
       "Name: text, Length: 51730, dtype: object"
      ]
     },
     "execution_count": 304,
     "metadata": {},
     "output_type": "execute_result"
    }
   ],
   "source": [
    "df_test.text"
   ]
  },
  {
   "cell_type": "code",
   "execution_count": 236,
   "metadata": {},
   "outputs": [],
   "source": [
    "df_test = pd.concat([set_irpf_columns(x) for x in df['value']], ignore_index=True)"
   ]
  },
  {
   "cell_type": "code",
   "execution_count": null,
   "metadata": {},
   "outputs": [],
   "source": [
    "no_balance = 'resultado encontrado: saldo inexistente',\n",
    "tax_to_pay = 'resultado encontrado: imposto a pagar',\n",
    "refund =  'restituição'"
   ]
  },
  {
   "cell_type": "code",
   "execution_count": 323,
   "metadata": {},
   "outputs": [],
   "source": [
    "no_balance = 'resultado encontrado: saldo inexistente'\n",
    "tax_to_pay = 'resultado encontrado: imposto a pagar'\n",
    "refund =  'restituição'\n",
    "\n",
    "df_test['text'] = df_test['text'].str.lower()\n",
    "\n",
    "df_test['no_balance'] = (\n",
    "    np.where(df_test.text.str.contains(no_balance),\n",
    "    1, 0))\n",
    "\n",
    "df_test['tax_to_pay'] = (\n",
    "    np.where(df_test.text.str.contains(tax_to_pay),\n",
    "    1, 0))\n",
    "\n",
    "df_test['refund'] = (\n",
    "    np.where(df_test.text.str.contains(refund),\n",
    "    1, 0))"
   ]
  },
  {
   "cell_type": "code",
   "execution_count": 335,
   "metadata": {},
   "outputs": [
    {
     "data": {
      "text/plain": [
       "situação da restituição: creditada caso a restituição não tenha sido creditada, ligue para a central de atendimento bb 4004-0001 (capitais), 0800-729-0001 (demais localidades) e 0800-729-0088 (deficientes auditivos) ou entre em contato com qualquer agência do banco do brasil s.a. para solicitar/reagendar o crédito. também é possível solicitar/reagendar o crédito pelo portal bb acessando o endereço https://www.bb.com.br/irpf .    33647\n",
       "sua declaração está na base de dados da receita federal com a seguinte situação: processada - em fila de restituição.                                                                                                                                                                                                                                                                                                                               44\n",
       "Name: text, dtype: int64"
      ]
     },
     "execution_count": 335,
     "metadata": {},
     "output_type": "execute_result"
    }
   ],
   "source": [
    "df_test[df_test['state'] == 'refund'].text.value_counts()"
   ]
  },
  {
   "cell_type": "code",
   "execution_count": 328,
   "metadata": {},
   "outputs": [
    {
     "data": {
      "text/plain": [
       "0    44271\n",
       "1     7459\n",
       "Name: tax_to_pay, dtype: int64"
      ]
     },
     "execution_count": 328,
     "metadata": {},
     "output_type": "execute_result"
    }
   ],
   "source": [
    "df_test.tax_to_pay.value_counts()"
   ]
  },
  {
   "cell_type": "code",
   "execution_count": null,
   "metadata": {},
   "outputs": [],
   "source": [
    "## erro = não conseguiu coletar"
   ]
  },
  {
   "cell_type": "code",
   "execution_count": 313,
   "metadata": {},
   "outputs": [
    {
     "data": {
      "text/plain": [
       "'resultado encontrado: saldo inexistente'"
      ]
     },
     "execution_count": 313,
     "metadata": {},
     "output_type": "execute_result"
    }
   ],
   "source": [
    "df_test.text.str.match(txt_dic['no_balance'])"
   ]
  },
  {
   "cell_type": "code",
   "execution_count": 322,
   "metadata": {},
   "outputs": [
    {
     "data": {
      "text/plain": [
       "refund        33691\n",
       "no_balance    10493\n",
       "tax_to_pay     7459\n",
       "error            87\n",
       "Name: state_2, dtype: int64"
      ]
     },
     "execution_count": 322,
     "metadata": {},
     "output_type": "execute_result"
    }
   ],
   "source": [
    "df_test['state_2'].value_counts()"
   ]
  },
  {
   "cell_type": "code",
   "execution_count": 316,
   "metadata": {},
   "outputs": [
    {
     "data": {
      "text/plain": [
       "refund        33691\n",
       "no_balance    10493\n",
       "tax_to_pay     7459\n",
       "error            87\n",
       "Name: state_2, dtype: int64"
      ]
     },
     "execution_count": 316,
     "metadata": {},
     "output_type": "execute_result"
    }
   ],
   "source": [
    "df_test['state_2'].value_counts()"
   ]
  },
  {
   "cell_type": "code",
   "execution_count": 332,
   "metadata": {},
   "outputs": [
    {
     "data": {
      "text/plain": [
       "array(['sua declaração está na base de dados da receita federal.',\n",
       "       'sua declaração já foi processada.'], dtype=object)"
      ]
     },
     "execution_count": 332,
     "metadata": {},
     "output_type": "execute_result"
    }
   ],
   "source": [
    "df_test[df_test['state'] == 'error']['text'].unique()"
   ]
  },
  {
   "cell_type": "code",
   "execution_count": null,
   "metadata": {},
   "outputs": [],
   "source": [
    "## Está na base -> Vai receber a restituição e não sabe a agência\n",
    "## Já foi declarada -> Vai receber a restituição\n",
    "\n",
    "# Coloca na contagem da restituição, entra como banco comum\n",
    "# Para tratar, considerar como agência comum e na contagem das restituições\n",
    "\n",
    "# Base dos Status -> Pedir pra Jana. Receita pode criar um status novo.\n",
    "# Trabalho 4 Life\n",
    "\n",
    "# Cobrar da Jana.\n",
    "\n",
    "# Admin Geru vai estar disponível em até 1 dia\n",
    "# Treinamento da AWS no dia 30"
   ]
  },
  {
   "cell_type": "code",
   "execution_count": 289,
   "metadata": {},
   "outputs": [
    {
     "data": {
      "text/plain": [
       "0        NaN\n",
       "1        NaN\n",
       "2        NaN\n",
       "3        NaN\n",
       "4        NaN\n",
       "        ... \n",
       "51725    NaN\n",
       "51726    NaN\n",
       "51727    NaN\n",
       "51728    NaN\n",
       "51729    NaN\n",
       "Name: cpf, Length: 51730, dtype: object"
      ]
     },
     "execution_count": 289,
     "metadata": {},
     "output_type": "execute_result"
    }
   ],
   "source": [
    "df_test.cpf"
   ]
  },
  {
   "cell_type": "code",
   "execution_count": 303,
   "metadata": {},
   "outputs": [
    {
     "data": {
      "text/plain": [
       "Sua declaração já foi processada. Resultado encontrado: Saldo inexistente de imposto a pagar ou a restituir.    10493\n",
       "Name: text, dtype: int64"
      ]
     },
     "execution_count": 303,
     "metadata": {},
     "output_type": "execute_result"
    }
   ],
   "source": [
    "df_test[df_test['state'] == 'no_balance'].text.value_counts()"
   ]
  },
  {
   "cell_type": "code",
   "execution_count": 281,
   "metadata": {},
   "outputs": [],
   "source": [
    "for i in to_pay_lst[260:270]:\n",
    "    print (i)\n",
    "    print('-----------------------')"
   ]
  },
  {
   "cell_type": "code",
   "execution_count": 144,
   "metadata": {},
   "outputs": [],
   "source": [
    "texts = df['value'].apply(lambda x: get_full_text(get_json_value(x)))"
   ]
  },
  {
   "cell_type": "code",
   "execution_count": 181,
   "metadata": {},
   "outputs": [
    {
     "data": {
      "text/plain": [
       "{'2017': 'Situação da Restituição: Creditada Caso a restituição não tenha sido creditada, ligue para a Central de Atendimento BB 4004-0001 (capitais), 0800-729-0001 (demais localidades) e 0800-729-0088 (deficientes auditivos) ou entre em contato com qualquer agência do Banco do Brasil S.A. para solicitar/reagendar o crédito. Também é possível solicitar/reagendar o crédito pelo Portal BB acessando o endereço https://www.bb.com.br/irpf .',\n",
       " '2018': 'Situação da Restituição: Creditada Caso a restituição não tenha sido creditada, ligue para a Central de Atendimento BB 4004-0001 (capitais), 0800-729-0001 (demais localidades) e 0800-729-0088 (deficientes auditivos) ou entre em contato com qualquer agência do Banco do Brasil S.A. para solicitar/reagendar o crédito. Também é possível solicitar/reagendar o crédito pelo Portal BB acessando o endereço https://www.bb.com.br/irpf .',\n",
       " '2019': 'Situação da Restituição: Creditada Caso a restituição não tenha sido creditada, ligue para a Central de Atendimento BB 4004-0001 (capitais), 0800-729-0001 (demais localidades) e 0800-729-0088 (deficientes auditivos) ou entre em contato com qualquer agência do Banco do Brasil S.A. para solicitar/reagendar o crédito. Também é possível solicitar/reagendar o crédito pelo Portal BB acessando o endereço https://www.bb.com.br/irpf .',\n",
       " '2020': 'Situação da Restituição: Creditada Caso a restituição não tenha sido creditada, ligue para a Central de Atendimento BB 4004-0001 (capitais), 0800-729-0001 (demais localidades) e 0800-729-0088 (deficientes auditivos) ou entre em contato com qualquer agência do Banco do Brasil S.A. para solicitar/reagendar o crédito. Também é possível solicitar/reagendar o crédito pelo Portal BB acessando o endereço https://www.bb.com.br/irpf .'}"
      ]
     },
     "execution_count": 181,
     "metadata": {},
     "output_type": "execute_result"
    }
   ],
   "source": [
    "texts.tax_to_pay"
   ]
  },
  {
   "cell_type": "code",
   "execution_count": 81,
   "metadata": {},
   "outputs": [
    {
     "data": {
      "text/plain": [
       "0        {'2012': {'bank': '341', 'branch': '3751'}, '2...\n",
       "1              {'2016': {'bank': '104', 'branch': '0793'}}\n",
       "2                                                       {}\n",
       "3                                                       {}\n",
       "4              {'2019': {'bank': '001', 'branch': '0893'}}\n",
       "                               ...                        \n",
       "18280    {'2014': {'bank': '104', 'branch': '1092'}, '2...\n",
       "18281                                                   {}\n",
       "18282                                                   {}\n",
       "18283          {'2019': {'bank': '###', 'branch': 'None'}}\n",
       "18284                                                   {}\n",
       "Name: value, Length: 18285, dtype: object"
      ]
     },
     "execution_count": 81,
     "metadata": {},
     "output_type": "execute_result"
    }
   ],
   "source": [
    "df['value'].apply(lambda x: get_year_data(get_json_value(x)))"
   ]
  },
  {
   "cell_type": "code",
   "execution_count": 71,
   "metadata": {},
   "outputs": [
    {
     "data": {
      "text/plain": [
       "['cpf',\n",
       " 'lot',\n",
       " 'bank',\n",
       " 'data',\n",
       " 'name',\n",
       " 'year',\n",
       " 'branch',\n",
       " 'status',\n",
       " 'raw_data',\n",
       " 'birthdate',\n",
       " 'credit_date',\n",
       " 'is_exemption',\n",
       " 'is_declaration',\n",
       " 'full_status_text']"
      ]
     },
     "execution_count": 71,
     "metadata": {},
     "output_type": "execute_result"
    }
   ],
   "source": [
    "list(json.loads(df['value'].loc[1])['riskInfo']['2016'].keys())"
   ]
  },
  {
   "cell_type": "code",
   "execution_count": 340,
   "metadata": {},
   "outputs": [
    {
     "data": {
      "text/plain": [
       "{'cpf': '42092321811',\n",
       " 'data': [['Sua declaração não consta na base de dados da Receita Federal.'],\n",
       "  ['Em Brasília - DF', '24/03/2022', '11:16'],\n",
       "  ['versão 01.20180815']],\n",
       " 'name': 'BELMIRO DE LIMA REZENDE',\n",
       " 'year': 2013,\n",
       " 'status': 'Sua declaração não consta na base de dados da Receita Federal.',\n",
       " 'raw_data': '<!DOCTYPE HTML>\\n<html>\\n<head>\\n<meta content=\"text/html; charset=utf-8\" http-equiv=\"Content-Type\"/>\\n<title>Receita Federal do Brasil</title>\\n<link href=\"//www.receita.fazenda.gov.br/tema/css/rfb.css\" rel=\"stylesheet\"/>\\n<script data-main=\"//www.receita.fazenda.gov.br/tema/main-built.js\" src=\"//www.receita.fazenda.gov.br/tema/require.js\"></script>\\n<script src=\"//www.receita.fazenda.gov.br/estatistica/estatistica.js\"></script>\\n<script language=\"javascript\">\\r\\n\\t\\t\\tfunction aoSair(evento) {\\r\\n\\t\\t\\t\\t//if (window.Event) {\\r\\n\\t\\t\\t\\t//\\tdocument.captureEvents(Event.MOUSEUP);\\r\\n\\t\\t\\t\\t//}\\r\\n\\t\\t\\t\\t//alert(evento);\\r\\n\\t\\t\\t}\\r\\n\\t\\t\\t//alert(captureEvents(Event));\\r\\n\\t\\t</script>\\n</head>\\n<body bottommargin=\"0\" leftmargin=\"0\" marginheight=\"0\" marginwidth=\"0\" onunload=\"aoSair(document.captureEvents(window.Event))\" rightmargin=\"0\" topmargin=\"0\">\\n<div id=\"rfb-main-container\">\\n<h1>Situação das Declarações IRPF 2013</h1>\\n<blockquote>\\n<label>\\n<b>Prezado Contribuinte (CPF 420.923.218-11),</b>\\n</label>\\n<br/>\\n<br/>\\r\\n\\t\\t\\t\\t\\tBELMIRO DE LIMA REZENDE\\r\\n\\t\\t\\t</blockquote>\\n<table align=\"center\" border=\"0\" cellspacing=\"1\" style=\"margin-left: 40px;\" width=\"90%\">\\n<tr>\\n<td>\\r\\n\\t\\t\\t\\t\\t\\t\\r\\n\\t\\t\\t\\t\\t\\t\\tSua declaração não consta na base de dados da Receita Federal.<br/><br/><br/><br/>\\n</td>\\n</tr>\\n</table>\\n<table align=\"center\" border=\"0\" width=\"90%\">\\n<tr>\\n<td align=\"center\" width=\"33%\">\\n<!--<font face=\"Verdana, Arial, Helvetica, sans-serif\" size=\"2\">-->\\n<font class=\"txtDadosContribuinte\"> \\r\\n\\t\\t\\t\\t\\t\\t\\tEm Brasília - DF\\r\\n\\t\\t\\t\\t\\t\\t</font>\\n</td>\\n<td align=\"center\" width=\"33%\">\\n<!--<font face=\"Verdana, Arial, Helvetica, sans-serif\" size=\"2\">-->\\n<font class=\"txtDadosContribuinte\"> \\r\\n\\t\\t\\t\\t\\t\\t\\t24/03/2022\\r\\n\\t\\t\\t\\t\\t\\t</font>\\n</td>\\n<td align=\"center\">\\n<!--<font face=\"Verdana, Arial, Helvetica, sans-serif\" size=\"2\">-->\\n<font class=\"txtDadosContribuinte\"> \\r\\n\\t\\t\\t\\t\\t\\t\\t11:16\\r\\n\\t\\t\\t\\t\\t\\t</font>\\n</td>\\n</tr>\\n<tr>\\n<td align=\"center\" colspan=\"3\">\\n<!--<font face=\"Verdana, Arial, Helvetica, sans-serif\" size=\"2\" color=\"#FFFFFF\">-->\\n<font class=\"versaox\"> \\r\\n\\t\\t\\t\\t\\t\\t\\tversão 01.20180815\\r\\n\\t\\t\\t\\t\\t\\t</font>\\n</td>\\n</tr>\\n</table>\\n<hr width=\"95%\"/>\\n<table align=\"center\" border=\"0\" width=\"90%\">\\n<tr>\\n<td nowrap=\"\" width=\"33%\">\\xa0</td>\\n<td align=\"center\" width=\"33%\">\\n<input class=\"btn\" name=\"btnVoltar\" onclick=\"location.href=\\'../index.asp\\'\" type=\"button\" value=\"Voltar\"/>\\n</td>\\n<td align=\"right\" width=\"33%\">\\n<a href=\"javascript:window.print()\"><img border=\"0\" name=\"impressao\" src=\"https://www.receita.fazenda.gov.br/images/printer.gif\"/></a>\\n</td>\\n</tr>\\n</table>\\n<span class=\"Rodape\">\\n<span class=\"corpoRodape\">A Receita Federal agradece a sua visita. Para informações sobre política de privacidade e uso, <a href=\"https://www.gov.br/receitafederal/pt-br/acesso-a-informacao/politica-de-privacidade\">clique aqui</a>.\\r\\n\\t\\t<br/>\\n<a href=\"https://www.gov.br/receitafederal/pt-br/acesso-a-informacao/politica-de-privacidade/avisos/2014/atualize-sua-pagina\">Atualize sua página</a>\\xa0\\xa0\\xa0\\xa0\\xa0\\xa0\\xa0Versão: v.01R</span>\\n</span>\\n</div>\\n<script language=\"JavaScript\">\\r\\n\\t\\tfunction janela(aa){\\r\\n\\t\\t\\tmywindow = window.open(aa,\"wmaini\",\" status=no,left=155,top=320,toolbar=no, location=no,directories=no,status=no,menubar=no,scrollbars=no,resizable=no,maximized=0,width=630,height=130\");\\r\\n\\t\\t}\\r\\n\\t\\r\\n\\t\\tfunction abreCentralizado(cpf) {\\r\\n\\t\\t\\t//largura e altura desejados da janela (informa)\\r\\n\\t\\t\\twinwidth = 630; // largura da janela\\r\\n\\t\\t\\twinheight = 130; // altura da janela\\r\\n\\t\\t\\t//posição da janela\\r\\n\\t\\t\\twinleft  = 200; // valor padrão caso o browser não suporte (nao alterar)\\r\\n\\t\\t\\twintop    = 200; // valor padrão caso o browser não suporte (nao alterar)\\r\\n\\t\\t\\tif (parseInt(navigator.appVersion) >= 4){\\r\\n\\t\\t\\t\\twinleft = (screen.width / 2) - (winwidth / 2); // centraliza na horizontal\\r\\n\\t\\t\\t\\twintop = (screen.height / 2) - (winheight / 2); // centraliza na verical\\r\\n\\t\\t\\t}\\r\\n\\t\\t\\twindow.open(\\'recibo.asp?cpf=\\' + cpf + \\'\\', \\'_blank\\', \\'top=\\' + wintop + \\',left=\\' + winleft + \\',height=\\' + winheight + \\',width=\\' + winwidth);\\r\\n\\t\\t}\\r\\n\\t\\r\\n\\t\\tfunction click(){\\r\\n\\t\\t\\tif (event.button==2) {alert(\\'Sistema da Receita Federal - Desenvolvido pelo SERPRO\\')}\\r\\n\\t\\t}\\r\\n\\t\\tdocument.onmousedown=click\\r\\n\\t</script>\\n</body>\\n</html>\\n',\n",
       " 'birthdate': '1995-09-11',\n",
       " 'is_declaration': False,\n",
       " 'full_status_text': 'Sua declaração não consta na base de dados da Receita Federal.'}"
      ]
     },
     "execution_count": 340,
     "metadata": {},
     "output_type": "execute_result"
    }
   ],
   "source": [
    "json.loads(df['value'].loc[2])['riskInfo']['2013']"
   ]
  },
  {
   "cell_type": "code",
   "execution_count": 17,
   "metadata": {},
   "outputs": [
    {
     "data": {
      "text/plain": [
       "True"
      ]
     },
     "execution_count": 17,
     "metadata": {},
     "output_type": "execute_result"
    }
   ],
   "source": [
    "json.loads(df['value'].loc[0])['riskInfo']['2012']['is_declaration']"
   ]
  },
  {
   "cell_type": "code",
   "execution_count": 25,
   "metadata": {},
   "outputs": [],
   "source": [
    "dicto = {}\n",
    "\n",
    "for l2 in json.loads(df['value'].loc[0])['riskInfo']['2012']['data']:\n",
    "    dicto[l2[0]] = ' '.join(l2[1:])"
   ]
  },
  {
   "cell_type": "code",
   "execution_count": 30,
   "metadata": {},
   "outputs": [
    {
     "name": "stdout",
     "output_type": "stream",
     "text": [
      "ITAU UNIBANCO S.A.\n",
      "3751\n"
     ]
    }
   ],
   "source": [
    "print(dicto['Banco:'])\n",
    "print(dicto['Agência:'])"
   ]
  }
 ],
 "metadata": {
  "kernelspec": {
   "display_name": "Python 3 (ipykernel)",
   "language": "python",
   "name": "python3"
  },
  "language_info": {
   "codemirror_mode": {
    "name": "ipython",
    "version": 3
   },
   "file_extension": ".py",
   "mimetype": "text/x-python",
   "name": "python",
   "nbconvert_exporter": "python",
   "pygments_lexer": "ipython3",
   "version": "3.8.5"
  },
  "vscode": {
   "interpreter": {
    "hash": "a531f68868ba16488e70902f98fa5b65f8b5ee93623664fa6bea6a3aa9e07039"
   }
  }
 },
 "nbformat": 4,
 "nbformat_minor": 4
}
